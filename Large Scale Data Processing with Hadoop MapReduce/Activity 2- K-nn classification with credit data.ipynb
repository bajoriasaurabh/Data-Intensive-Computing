{
 "cells": [
  {
   "cell_type": "markdown",
   "metadata": {
    "collapsed": true
   },
   "source": [
    "                                                                                                         Saurabh Bajoria\n",
    "                                                                                                         UBid: sbajoria\n",
    "                                                                                                         Person no:50208005\n",
    "\n",
    "**CSE 4/587 Data Intensive Computing**\n",
    "====================\n",
    "***LAB3: ALGORITHMS AND MODELS FOR DATA ANALYSIS, LEARNING AND PREDICTION***\n",
    "---------------------------------------\n",
    "                                                                                                       \n",
    "\n",
    "*Activity 2: K-nn classification with credit data*\n",
    "--------------------------------------\n",
    "\n",
    "\n",
    " \n",
    "\n",
    "- Installing and importing Libraries required"
   ]
  },
  {
   "cell_type": "code",
   "execution_count": null,
   "metadata": {
    "collapsed": true
   },
   "outputs": [],
   "source": [
    "library(class)"
   ]
  },
  {
   "cell_type": "markdown",
   "metadata": {},
   "source": [
    "- pseudo-random number generation"
   ]
  },
  {
   "cell_type": "code",
   "execution_count": null,
   "metadata": {
    "collapsed": true
   },
   "outputs": [],
   "source": [
    "set.seed(126)"
   ]
  },
  {
   "cell_type": "markdown",
   "metadata": {},
   "source": [
    "- read the data from German Credit CSV into dataframe *data*"
   ]
  },
  {
   "cell_type": "code",
   "execution_count": null,
   "metadata": {
    "collapsed": false
   },
   "outputs": [],
   "source": [
    "data <- read.csv(\"german_credit_data1.csv\", header = TRUE, sep = \",\", quote = \"\\\"\",\n",
    "         dec = \".\", fill = TRUE,stringsAsFactors=FALSE,row.names=NULL)"
   ]
  },
  {
   "cell_type": "markdown",
   "metadata": {},
   "source": [
    "- Create a column Credit.Risks.f based on the values of column Credit.Risks from dataframe *data*\n",
    " - Assign a value *low* for Value 1 and a value *high* for Value 2"
   ]
  },
  {
   "cell_type": "code",
   "execution_count": null,
   "metadata": {
    "collapsed": true
   },
   "outputs": [],
   "source": [
    "Credit.Risks.f<-factor(data$Credit.Risks, label=c(\"low\",\"high\"))"
   ]
  },
  {
   "cell_type": "markdown",
   "metadata": {},
   "source": [
    "- Change the values of all the columns from Strings (character) to numeric\n",
    " - Sex : (male,female) --> (1,2)\n",
    " - Housing : (own,free,rent) --> (1,2,3)\n",
    " - Saving.accounts : (little,moderate,quite rich,rich,NA) --> (1,2,3,4,9)\n",
    " - Checking.account : (little,moderate,rich,NA) --> (1,2,3,9)\n",
    " - Purpose : (radio/TV,business,education,car,domestic appliances,furniture/equipment,repairs,vacation/others) --> (1,2,3,4,5,6,7,8)"
   ]
  },
  {
   "cell_type": "code",
   "execution_count": null,
   "metadata": {
    "collapsed": false
   },
   "outputs": [],
   "source": [
    "data$Sex[data$Sex==\"male\"] <-1\n",
    "data$Sex[data$Sex==\"female\"] <-2\n",
    "data$Housing[data$Housing==\"own\"] <-1\n",
    "data$Housing[data$Housing==\"free\"] <-2\n",
    "data$Housing[data$Housing==\"rent\"] <-3\n",
    "data$Saving.accounts[data$Saving.accounts==\"little\"] <-1\n",
    "data$Saving.accounts[data$Saving.accounts==\"moderate\"] <-2\n",
    "data$Saving.accounts[data$Saving.accounts==\"quite rich\"] <-3\n",
    "data$Saving.accounts[data$Saving.accounts==\"rich\"] <-4\n",
    "data$Saving.accounts[is.na(data$Saving.accounts)] <-9\n",
    "data$Checking.account[data$Checking.account==\"little\"] <-1\n",
    "data$Checking.account[data$Checking.account==\"moderate\"] <-2\n",
    "data$Checking.account[data$Checking.account==\"rich\"] <-3\n",
    "data$Checking.account[is.na(data$Checking.account)] <-9\n",
    "data$Purpose[data$Purpose==\"radio/TV\"] <-1\n",
    "data$Purpose[data$Purpose==\"business\"] <-2\n",
    "data$Purpose[data$Purpose==\"education\"] <-3\n",
    "data$Purpose[data$Purpose==\"car\"] <-4\n",
    "data$Purpose[data$Purpose==\"domestic appliances\"] <-5\n",
    "data$Purpose[data$Purpose==\"furniture/equipment\"] <-6\n",
    "data$Purpose[data$Purpose==\"repairs\"] <-7\n",
    "data$Purpose[data$Purpose==\"vacation/others\"] <-8"
   ]
  },
  {
   "cell_type": "markdown",
   "metadata": {},
   "source": [
    "- Convert the above columns from string to numeric"
   ]
  },
  {
   "cell_type": "code",
   "execution_count": null,
   "metadata": {
    "collapsed": false
   },
   "outputs": [],
   "source": [
    "data$Sex<-as.numeric(data$Sex)\n",
    "data$Job<-as.numeric(data$Job)\n",
    "data$Age<-as.numeric(data$Age)\n",
    "data$Housing<-as.numeric(data$Housing)\n",
    "data$Saving.accounts<-as.numeric(data$Saving.accounts)\n",
    "data$Checking.account<-as.numeric(data$Checking.account)\n",
    "data$Credit.amount<-as.numeric(data$Credit.amount)\n",
    "data$Duration<-as.numeric(data$Duration)\n",
    "data$Purpose<-as.numeric(data$Purpose)"
   ]
  },
  {
   "cell_type": "markdown",
   "metadata": {},
   "source": [
    "- Create a function *normalization* to normalize a value of x\n",
    " - This function is applied to individual columns of the data to normalize every column to a range 0 to 1"
   ]
  },
  {
   "cell_type": "code",
   "execution_count": null,
   "metadata": {
    "collapsed": false
   },
   "outputs": [],
   "source": [
    "normalization <- function(x) \n",
    "{(x - min(x, na.rm=TRUE))/(max(x,na.rm=TRUE) -min(x, na.rm=TRUE))}\n",
    "\n",
    "data <- as.data.frame(lapply(data[,2:10], normalization))\n",
    "lapply(data, range)"
   ]
  },
  {
   "cell_type": "markdown",
   "metadata": {},
   "source": [
    "- Creating a dataframe to store the output (Misclassification rate, Test Data percentage, Train Data percentage, K Value)"
   ]
  },
  {
   "cell_type": "code",
   "execution_count": null,
   "metadata": {
    "collapsed": false
   },
   "outputs": [],
   "source": [
    "output <- data.frame(TrainDataPercentage = numeric(), TestDataPercentage = numeric(), k = numeric(),MisclassificationRate=numeric())"
   ]
  },
  {
   "cell_type": "markdown",
   "metadata": {},
   "source": [
    "## Performing Knn\n",
    " \n",
    "- Creating trainSample and testSample using sample function which uses the random seed generated \n",
    "- subsetting the original data using trainSample and testSample for the trainData and testData respectively\n",
    "- Sampling the Credit.Risks.f based on trainSample and testSample values for factor of true classifications of training set and true labels\n",
    "- Performing knn on the trainData,testData using factor of true classification of training set and value of k\n",
    "- couting the total incorrect labels obtained from knn\n",
    "- calculating the misclassification rate from the above calculated incorrect labels divided by the total test set labels\n",
    "- binding the values of trainData percentage, testData percentage, k and misclassification rate to the output dataframe\n",
    "- This whole procedure is repeated for different values of k and test data percentage-train data percentage\n",
    "- k is varied from 1 to 20 for variations in test data-training data from 50 to 90%\n",
    "- Misclassification rate is observed for all these combinations"
   ]
  },
  {
   "cell_type": "code",
   "execution_count": null,
   "metadata": {
    "collapsed": false
   },
   "outputs": [],
   "source": [
    "for(k in 1:20)\n",
    "{\n",
    "for(i in seq(0.5, 0.9, 0.1))\n",
    "{\n",
    "    trainSample <- sample(1:nrow(data),(nrow(data)*i),replace=FALSE)\n",
    "    trainData <- subset(data[trainSample,])\n",
    "    testSample <- setdiff(1:nrow(data),trainSample)\n",
    "    testData <- subset(data[testSample,])\n",
    "    num.test.set.labels <- nrow(data)*(1-i)\n",
    "    cl<- Credit.Risks.f[trainSample]\n",
    "    true.labels<-Credit.Risks.f[testSample]\n",
    "    cat(\"Train Data Percentage:\",i,\"\\n\")\n",
    "    cat(\"Test Data Percentage:\",(1-i),\"\\n\")\n",
    "    cat(\"Value of k:\",k,\"\\n\")\n",
    "    predicted.labels <- knn(trainData,testData,cl,k)\n",
    "    num.incorrect.labels<-sum(predicted.labels !=true.labels)\n",
    "    misclassification.rate<-num.incorrect.labels/num.test.set.labels\n",
    "    cat(\"Misclassification rate:\",misclassification.rate,\"\\n\\n\")\n",
    "    output <- rbind(output, data.frame(TrainDataPercentage = i, TestDataPercentage = (1-i), k = k,MisclassificationRate=misclassification.rate))\n",
    "    }\n",
    "}"
   ]
  },
  {
   "cell_type": "markdown",
   "metadata": {},
   "source": [
    "- Displaying the output(misclassification rate for different values of K and trainData-testData percentage, sorted by misclassification rate (least first)"
   ]
  },
  {
   "cell_type": "code",
   "execution_count": null,
   "metadata": {
    "collapsed": false
   },
   "outputs": [],
   "source": [
    "output[order(output$MisclassificationRate),]"
   ]
  },
  {
   "cell_type": "markdown",
   "metadata": {
    "collapsed": true
   },
   "source": [
    "### Summary\n",
    "\n",
    "- Misclassification rate is the least for trainingData percentage 90 and testData percentage 10 and K value 20\n",
    "- Misclassification rate is the highest for trainingData percentage 90 and testData percentage 10 and K value 18\n",
    "- Min(Misclassification rate) = 0.2\n",
    "- Max(Misclassification rate) = 0.4"
   ]
  },
  {
   "cell_type": "code",
   "execution_count": null,
   "metadata": {
    "collapsed": true
   },
   "outputs": [],
   "source": []
  }
 ],
 "metadata": {
  "kernelspec": {
   "display_name": "R",
   "language": "R",
   "name": "ir"
  },
  "language_info": {
   "codemirror_mode": "r",
   "file_extension": ".r",
   "mimetype": "text/x-r-source",
   "name": "R",
   "pygments_lexer": "r",
   "version": "3.3.2"
  }
 },
 "nbformat": 4,
 "nbformat_minor": 2
}
