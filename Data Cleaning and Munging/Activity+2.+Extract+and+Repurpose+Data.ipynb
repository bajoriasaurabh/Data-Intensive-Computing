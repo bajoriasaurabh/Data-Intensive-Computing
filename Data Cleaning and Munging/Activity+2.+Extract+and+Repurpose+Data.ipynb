{
 "cells": [
  {
   "cell_type": "markdown",
   "metadata": {
    "collapsed": false
   },
   "source": [
    "                                                                                                         Saurabh Bajoria\n",
    "                                                                                                         UBid: sbajoria\n",
    "                                                                                                         Person no:50208005\n",
    "\n",
    "**CSE 4/587 Data Intensive Computing**\n",
    "====================\n",
    "***LAB2: DATA CLEANING AND MUNGING***\n",
    "---------------------------------------\n",
    "                                                                                                       \n",
    "\n",
    "*Activity 2: Extract and repurpose data*\n",
    "--------------------------------------\n",
    "\n",
    "*Kagge Sqlite European Soccer Database*\n",
    "\n",
    "\n",
    "- Note:\n",
    " 1. Used Sqlite to make connection to the database\n",
    " 2. Used read.csv.sql() function to read the data from CSV\n",
    " 3. Used write.csv() to write data to a csv\n",
    " 4. Used dbGetQuery to fetch the data from database tables\n",
    " 5. Created two CSVs: 1. Player.csv   2. Team.csv\n",
    " \n",
    "\n",
    "- Installing and Importing Libraries required"
   ]
  },
  {
   "cell_type": "code",
   "execution_count": 1,
   "metadata": {
    "collapsed": false,
    "scrolled": true
   },
   "outputs": [
    {
     "name": "stderr",
     "output_type": "stream",
     "text": [
      "Installing package into 'C:/Users/Saurabh/Documents/R/win-library/3.3'\n",
      "(as 'lib' is unspecified)\n"
     ]
    },
    {
     "name": "stdout",
     "output_type": "stream",
     "text": [
      "package 'dplyr' successfully unpacked and MD5 sums checked\n",
      "\n",
      "The downloaded binary packages are in\n",
      "\tC:\\Users\\Saurabh\\AppData\\Local\\Temp\\RtmpWed7EX\\downloaded_packages\n"
     ]
    },
    {
     "name": "stderr",
     "output_type": "stream",
     "text": [
      "Installing package into 'C:/Users/Saurabh/Documents/R/win-library/3.3'\n",
      "(as 'lib' is unspecified)\n"
     ]
    },
    {
     "name": "stdout",
     "output_type": "stream",
     "text": [
      "package 'sqldf' successfully unpacked and MD5 sums checked\n",
      "\n",
      "The downloaded binary packages are in\n",
      "\tC:\\Users\\Saurabh\\AppData\\Local\\Temp\\RtmpWed7EX\\downloaded_packages\n"
     ]
    }
   ],
   "source": [
    "install.packages(\"dplyr\", repos = \"http://cran.us.r-project.org\")\n",
    "install.packages(\"sqldf\", repos = \"http://cran.us.r-project.org\")"
   ]
  },
  {
   "cell_type": "code",
   "execution_count": 2,
   "metadata": {
    "collapsed": false
   },
   "outputs": [
    {
     "name": "stderr",
     "output_type": "stream",
     "text": [
      "Warning message:\n",
      "\"package 'dplyr' was built under R version 3.3.3\"\n",
      "Attaching package: 'dplyr'\n",
      "\n",
      "The following objects are masked from 'package:stats':\n",
      "\n",
      "    filter, lag\n",
      "\n",
      "The following objects are masked from 'package:base':\n",
      "\n",
      "    intersect, setdiff, setequal, union\n",
      "\n",
      "Warning message:\n",
      "\"package 'sqldf' was built under R version 3.3.3\"Loading required package: gsubfn\n",
      "Loading required package: proto\n",
      "Could not load tcltk.  Will use slower R code instead.\n",
      "Loading required package: RSQLite\n"
     ]
    }
   ],
   "source": [
    "library(dplyr)\n",
    "library(sqldf)"
   ]
  },
  {
   "cell_type": "markdown",
   "metadata": {},
   "source": [
    "- Establishing a connection to the database using SQLite"
   ]
  },
  {
   "cell_type": "code",
   "execution_count": 3,
   "metadata": {
    "collapsed": false
   },
   "outputs": [],
   "source": [
    "db <- dbConnect(SQLite(), dbname=\"database.sqlite\")"
   ]
  },
  {
   "cell_type": "markdown",
   "metadata": {},
   "source": [
    "- Quering the database for creating the Player.csv\n",
    " - Joining the tables Player and Player_Attributes on player_api_id\n",
    " - Calculating Max overall rating for every player using group by player_api_id and player_name\n",
    " - Calculating Max sum of GK attributes for every player using group by player_api_id and player_name\n",
    " - Joining the tables Player and Match on player_api_id and Home_player1, Home_player2....Away_Player1, Away_Player2...\n",
    " - Using the above joined tables (Player and Match) to form a subquery\n",
    " - Count the number of appearances and distinct leagues using group by player_api_id and player_name"
   ]
  },
  {
   "cell_type": "code",
   "execution_count": 4,
   "metadata": {
    "collapsed": false
   },
   "outputs": [],
   "source": [
    "write.csv((dbGetQuery(conn = db,\"select pa.player_api_id as 'player_id',REPLACE(p.player_name,',',';') as 'player_name',\n",
    "max(pa.overall_rating) as 'overall_rating',\n",
    "max(gk_diving+gk_handling+gk_kicking+gk_positioning+gk_reflexes) as 'gk_attributes',\n",
    "Count_appearances.appearances as 'number_of_appearances',\n",
    "Count_appearances.leagues as 'number_of_leagues'\n",
    "from Player_Attributes pa, Player p, (select p.player_api_id,count(p.player_api_id) as 'appearances', count(distinct league_id) as 'leagues' \n",
    "from Player p, Match m\n",
    "where p.player_api_id=m.home_player_1 OR\n",
    "p.player_api_id=m.home_player_2 OR\n",
    "p.player_api_id=m.home_player_3 OR\n",
    "p.player_api_id=m.home_player_4 OR\n",
    "p.player_api_id=m.home_player_5 OR\n",
    "p.player_api_id=m.home_player_6 OR\n",
    "p.player_api_id=m.home_player_7 OR\n",
    "p.player_api_id=m.home_player_8 OR\n",
    "p.player_api_id=m.home_player_9 OR\n",
    "p.player_api_id=m.home_player_10 OR\n",
    "p.player_api_id=m.home_player_11 OR\n",
    "p.player_api_id=m.away_player_1 OR\n",
    "p.player_api_id=m.away_player_2 OR\n",
    "p.player_api_id=m.away_player_3 OR\n",
    "p.player_api_id=m.away_player_4 OR\n",
    "p.player_api_id=m.away_player_5 OR\n",
    "p.player_api_id=m.away_player_6 OR\n",
    "p.player_api_id=m.away_player_7 OR\n",
    "p.player_api_id=m.away_player_8 OR\n",
    "p.player_api_id=m.away_player_9 OR\n",
    "p.player_api_id=m.away_player_10 OR\n",
    "p.player_api_id=m.away_player_11\n",
    "group by p.player_api_id) as 'Count_appearances'\n",
    "where pa.player_api_id=p.player_api_id\n",
    "and pa.player_api_id=Count_appearances.player_api_id\n",
    "group by pa.player_api_id\")),file = \"Player.csv\",row.names=FALSE)"
   ]
  },
  {
   "cell_type": "markdown",
   "metadata": {},
   "source": [
    "- **Question 1:** Which are the top 10 players by overall rating?"
   ]
  },
  {
   "cell_type": "code",
   "execution_count": 5,
   "metadata": {
    "collapsed": false
   },
   "outputs": [
    {
     "name": "stderr",
     "output_type": "stream",
     "text": [
      "Warning message:\n",
      "\"closing unused connection 5 (Player.csv)\"Warning message:\n",
      "\"closing unused connection 4 (Player.csv)\""
     ]
    },
    {
     "data": {
      "text/html": [
       "<table>\n",
       "<thead><tr><th scope=col>player_id</th><th scope=col>player_name</th><th scope=col>overall_rating</th></tr></thead>\n",
       "<tbody>\n",
       "\t<tr><td>30981              </td><td>\"Lionel Messi\"     </td><td>94                 </td></tr>\n",
       "\t<tr><td>30717              </td><td>\"Gianluigi Buffon\" </td><td>93                 </td></tr>\n",
       "\t<tr><td>30829              </td><td>\"Wayne Rooney\"     </td><td>93                 </td></tr>\n",
       "\t<tr><td>30893              </td><td>\"Cristiano Ronaldo\"</td><td>93                 </td></tr>\n",
       "\t<tr><td>39854              </td><td>\"Xavi Hernandez\"   </td><td>92                 </td></tr>\n",
       "\t<tr><td>39989              </td><td>\"Gregory Coupet\"   </td><td>92                 </td></tr>\n",
       "\t<tr><td>30626              </td><td>\"Thierry Henry\"    </td><td>91                 </td></tr>\n",
       "\t<tr><td>30627              </td><td>\"John Terry\"       </td><td>91                 </td></tr>\n",
       "\t<tr><td>30657              </td><td>\"Iker Casillas\"    </td><td>91                 </td></tr>\n",
       "\t<tr><td>30723              </td><td>\"Alessandro Nesta\" </td><td>91                 </td></tr>\n",
       "</tbody>\n",
       "</table>\n"
      ],
      "text/latex": [
       "\\begin{tabular}{r|lll}\n",
       " player\\_id & player\\_name & overall\\_rating\\\\\n",
       "\\hline\n",
       "\t 30981               & \"Lionel Messi\"      & 94                 \\\\\n",
       "\t 30717               & \"Gianluigi Buffon\"  & 93                 \\\\\n",
       "\t 30829               & \"Wayne Rooney\"      & 93                 \\\\\n",
       "\t 30893               & \"Cristiano Ronaldo\" & 93                 \\\\\n",
       "\t 39854               & \"Xavi Hernandez\"    & 92                 \\\\\n",
       "\t 39989               & \"Gregory Coupet\"    & 92                 \\\\\n",
       "\t 30626               & \"Thierry Henry\"     & 91                 \\\\\n",
       "\t 30627               & \"John Terry\"        & 91                 \\\\\n",
       "\t 30657               & \"Iker Casillas\"     & 91                 \\\\\n",
       "\t 30723               & \"Alessandro Nesta\"  & 91                 \\\\\n",
       "\\end{tabular}\n"
      ],
      "text/markdown": [
       "\n",
       "player_id | player_name | overall_rating | \n",
       "|---|---|---|---|---|---|---|---|---|---|\n",
       "| 30981               | \"Lionel Messi\"      | 94                  | \n",
       "| 30717               | \"Gianluigi Buffon\"  | 93                  | \n",
       "| 30829               | \"Wayne Rooney\"      | 93                  | \n",
       "| 30893               | \"Cristiano Ronaldo\" | 93                  | \n",
       "| 39854               | \"Xavi Hernandez\"    | 92                  | \n",
       "| 39989               | \"Gregory Coupet\"    | 92                  | \n",
       "| 30626               | \"Thierry Henry\"     | 91                  | \n",
       "| 30627               | \"John Terry\"        | 91                  | \n",
       "| 30657               | \"Iker Casillas\"     | 91                  | \n",
       "| 30723               | \"Alessandro Nesta\"  | 91                  | \n",
       "\n",
       "\n"
      ],
      "text/plain": [
       "   player_id player_name         overall_rating\n",
       "1  30981     \"Lionel Messi\"      94            \n",
       "2  30717     \"Gianluigi Buffon\"  93            \n",
       "3  30829     \"Wayne Rooney\"      93            \n",
       "4  30893     \"Cristiano Ronaldo\" 93            \n",
       "5  39854     \"Xavi Hernandez\"    92            \n",
       "6  39989     \"Gregory Coupet\"    92            \n",
       "7  30626     \"Thierry Henry\"     91            \n",
       "8  30627     \"John Terry\"        91            \n",
       "9  30657     \"Iker Casillas\"     91            \n",
       "10 30723     \"Alessandro Nesta\"  91            "
      ]
     },
     "metadata": {},
     "output_type": "display_data"
    }
   ],
   "source": [
    "read.csv.sql(\"Player.csv\", \n",
    "    sql = \"select player_id,player_name,overall_rating from file order by overall_rating desc LIMIT 10\",\n",
    "eol=\"\\n\")"
   ]
  },
  {
   "cell_type": "markdown",
   "metadata": {},
   "source": [
    "- **Question 2:** Which are the top 10 goalkeepers by sum of gk attributes?"
   ]
  },
  {
   "cell_type": "code",
   "execution_count": 6,
   "metadata": {
    "collapsed": false
   },
   "outputs": [
    {
     "name": "stderr",
     "output_type": "stream",
     "text": [
      "Warning message:\n",
      "\"closing unused connection 4 (Player.csv)\""
     ]
    },
    {
     "data": {
      "text/html": [
       "<table>\n",
       "<thead><tr><th scope=col>player_id</th><th scope=col>player_name</th><th scope=col>gk_attributes</th></tr></thead>\n",
       "<tbody>\n",
       "\t<tr><td> 30717             </td><td>\"Gianluigi Buffon\" </td><td>449                </td></tr>\n",
       "\t<tr><td> 39989             </td><td>\"Gregory Coupet\"   </td><td>447                </td></tr>\n",
       "\t<tr><td> 30859             </td><td>\"Petr Cech\"        </td><td>445                </td></tr>\n",
       "\t<tr><td> 30657             </td><td>\"Iker Casillas\"    </td><td>442                </td></tr>\n",
       "\t<tr><td> 27299             </td><td>\"Manuel Neuer\"     </td><td>440                </td></tr>\n",
       "\t<tr><td> 30989             </td><td>\"Julio Cesar\"      </td><td>438                </td></tr>\n",
       "\t<tr><td> 24503             </td><td>\"Sebastian Frey\"   </td><td>437                </td></tr>\n",
       "\t<tr><td> 30726             </td><td>\"Edwin van der Sar\"</td><td>436                </td></tr>\n",
       "\t<tr><td>182917             </td><td>\"David De Gea\"     </td><td>429                </td></tr>\n",
       "\t<tr><td> 30660             </td><td>\"Pepe Reina\"       </td><td>428                </td></tr>\n",
       "</tbody>\n",
       "</table>\n"
      ],
      "text/latex": [
       "\\begin{tabular}{r|lll}\n",
       " player\\_id & player\\_name & gk\\_attributes\\\\\n",
       "\\hline\n",
       "\t  30717              & \"Gianluigi Buffon\"  & 449                \\\\\n",
       "\t  39989              & \"Gregory Coupet\"    & 447                \\\\\n",
       "\t  30859              & \"Petr Cech\"         & 445                \\\\\n",
       "\t  30657              & \"Iker Casillas\"     & 442                \\\\\n",
       "\t  27299              & \"Manuel Neuer\"      & 440                \\\\\n",
       "\t  30989              & \"Julio Cesar\"       & 438                \\\\\n",
       "\t  24503              & \"Sebastian Frey\"    & 437                \\\\\n",
       "\t  30726              & \"Edwin van der Sar\" & 436                \\\\\n",
       "\t 182917              & \"David De Gea\"      & 429                \\\\\n",
       "\t  30660              & \"Pepe Reina\"        & 428                \\\\\n",
       "\\end{tabular}\n"
      ],
      "text/markdown": [
       "\n",
       "player_id | player_name | gk_attributes | \n",
       "|---|---|---|---|---|---|---|---|---|---|\n",
       "|  30717              | \"Gianluigi Buffon\"  | 449                 | \n",
       "|  39989              | \"Gregory Coupet\"    | 447                 | \n",
       "|  30859              | \"Petr Cech\"         | 445                 | \n",
       "|  30657              | \"Iker Casillas\"     | 442                 | \n",
       "|  27299              | \"Manuel Neuer\"      | 440                 | \n",
       "|  30989              | \"Julio Cesar\"       | 438                 | \n",
       "|  24503              | \"Sebastian Frey\"    | 437                 | \n",
       "|  30726              | \"Edwin van der Sar\" | 436                 | \n",
       "| 182917              | \"David De Gea\"      | 429                 | \n",
       "|  30660              | \"Pepe Reina\"        | 428                 | \n",
       "\n",
       "\n"
      ],
      "text/plain": [
       "   player_id player_name         gk_attributes\n",
       "1   30717    \"Gianluigi Buffon\"  449          \n",
       "2   39989    \"Gregory Coupet\"    447          \n",
       "3   30859    \"Petr Cech\"         445          \n",
       "4   30657    \"Iker Casillas\"     442          \n",
       "5   27299    \"Manuel Neuer\"      440          \n",
       "6   30989    \"Julio Cesar\"       438          \n",
       "7   24503    \"Sebastian Frey\"    437          \n",
       "8   30726    \"Edwin van der Sar\" 436          \n",
       "9  182917    \"David De Gea\"      429          \n",
       "10  30660    \"Pepe Reina\"        428          "
      ]
     },
     "metadata": {},
     "output_type": "display_data"
    }
   ],
   "source": [
    "read.csv.sql(\"Player.csv\", \n",
    "    sql = \"select player_id,player_name,gk_attributes from file order by gk_attributes desc LIMIT 10\",\n",
    "eol=\"\\n\")"
   ]
  },
  {
   "cell_type": "markdown",
   "metadata": {},
   "source": [
    "- **Question 3:** Which are the top 10 players by number of appearances (with any team they played with)?"
   ]
  },
  {
   "cell_type": "code",
   "execution_count": 7,
   "metadata": {
    "collapsed": false
   },
   "outputs": [
    {
     "name": "stderr",
     "output_type": "stream",
     "text": [
      "Warning message:\n",
      "\"closing unused connection 6 (Player.csv)\"Warning message:\n",
      "\"closing unused connection 4 (Player.csv)\""
     ]
    },
    {
     "data": {
      "text/html": [
       "<table>\n",
       "<thead><tr><th scope=col>player_id</th><th scope=col>player_name</th><th scope=col>number_of_appearances</th></tr></thead>\n",
       "<tbody>\n",
       "\t<tr><td>31293                 </td><td>\"Steve Mandanda\"      </td><td>300                   </td></tr>\n",
       "\t<tr><td>41097                 </td><td>\"Stephane Ruffier\"    </td><td>294                   </td></tr>\n",
       "\t<tr><td>33764                 </td><td>\"Gorka Iraizoz Moreno\"</td><td>286                   </td></tr>\n",
       "\t<tr><td>42422                 </td><td>\"Samir Handanovic\"    </td><td>286                   </td></tr>\n",
       "\t<tr><td>26295                 </td><td>\"Hugo Lloris\"         </td><td>282                   </td></tr>\n",
       "\t<tr><td>31465                 </td><td>\"Tim Howard\"          </td><td>282                   </td></tr>\n",
       "\t<tr><td>31432                 </td><td>\"Joe Hart\"            </td><td>275                   </td></tr>\n",
       "\t<tr><td>26168                 </td><td>\"Cedric Carrasso\"     </td><td>268                   </td></tr>\n",
       "\t<tr><td>26399                 </td><td>\"Daniel Congre\"       </td><td>262                   </td></tr>\n",
       "\t<tr><td>94550                 </td><td>\"Moussa Sissoko\"      </td><td>260                   </td></tr>\n",
       "</tbody>\n",
       "</table>\n"
      ],
      "text/latex": [
       "\\begin{tabular}{r|lll}\n",
       " player\\_id & player\\_name & number\\_of\\_appearances\\\\\n",
       "\\hline\n",
       "\t 31293                  & \"Steve Mandanda\"       & 300                   \\\\\n",
       "\t 41097                  & \"Stephane Ruffier\"     & 294                   \\\\\n",
       "\t 33764                  & \"Gorka Iraizoz Moreno\" & 286                   \\\\\n",
       "\t 42422                  & \"Samir Handanovic\"     & 286                   \\\\\n",
       "\t 26295                  & \"Hugo Lloris\"          & 282                   \\\\\n",
       "\t 31465                  & \"Tim Howard\"           & 282                   \\\\\n",
       "\t 31432                  & \"Joe Hart\"             & 275                   \\\\\n",
       "\t 26168                  & \"Cedric Carrasso\"      & 268                   \\\\\n",
       "\t 26399                  & \"Daniel Congre\"        & 262                   \\\\\n",
       "\t 94550                  & \"Moussa Sissoko\"       & 260                   \\\\\n",
       "\\end{tabular}\n"
      ],
      "text/markdown": [
       "\n",
       "player_id | player_name | number_of_appearances | \n",
       "|---|---|---|---|---|---|---|---|---|---|\n",
       "| 31293                  | \"Steve Mandanda\"       | 300                    | \n",
       "| 41097                  | \"Stephane Ruffier\"     | 294                    | \n",
       "| 33764                  | \"Gorka Iraizoz Moreno\" | 286                    | \n",
       "| 42422                  | \"Samir Handanovic\"     | 286                    | \n",
       "| 26295                  | \"Hugo Lloris\"          | 282                    | \n",
       "| 31465                  | \"Tim Howard\"           | 282                    | \n",
       "| 31432                  | \"Joe Hart\"             | 275                    | \n",
       "| 26168                  | \"Cedric Carrasso\"      | 268                    | \n",
       "| 26399                  | \"Daniel Congre\"        | 262                    | \n",
       "| 94550                  | \"Moussa Sissoko\"       | 260                    | \n",
       "\n",
       "\n"
      ],
      "text/plain": [
       "   player_id player_name            number_of_appearances\n",
       "1  31293     \"Steve Mandanda\"       300                  \n",
       "2  41097     \"Stephane Ruffier\"     294                  \n",
       "3  33764     \"Gorka Iraizoz Moreno\" 286                  \n",
       "4  42422     \"Samir Handanovic\"     286                  \n",
       "5  26295     \"Hugo Lloris\"          282                  \n",
       "6  31465     \"Tim Howard\"           282                  \n",
       "7  31432     \"Joe Hart\"             275                  \n",
       "8  26168     \"Cedric Carrasso\"      268                  \n",
       "9  26399     \"Daniel Congre\"        262                  \n",
       "10 94550     \"Moussa Sissoko\"       260                  "
      ]
     },
     "metadata": {},
     "output_type": "display_data"
    }
   ],
   "source": [
    "read.csv.sql(\"Player.csv\", \n",
    "    sql = \"select player_id,player_name,number_of_appearances from file order by number_of_appearances desc LIMIT 10\",\n",
    "eol=\"\\n\")"
   ]
  },
  {
   "cell_type": "markdown",
   "metadata": {},
   "source": [
    "- **Question 4:** Which are the top 10 players by number of leagues they played in?"
   ]
  },
  {
   "cell_type": "code",
   "execution_count": 8,
   "metadata": {
    "collapsed": false
   },
   "outputs": [
    {
     "name": "stderr",
     "output_type": "stream",
     "text": [
      "Warning message:\n",
      "\"closing unused connection 4 (Player.csv)\""
     ]
    },
    {
     "data": {
      "text/html": [
       "<table>\n",
       "<thead><tr><th scope=col>player_id</th><th scope=col>player_name</th><th scope=col>number_of_leagues</th></tr></thead>\n",
       "<tbody>\n",
       "\t<tr><td> 42119                 </td><td>\"Gelson Fernandes\"     </td><td>6                      </td></tr>\n",
       "\t<tr><td>116750                 </td><td>\"Ricky van Wolfswinkel\"</td><td>5                      </td></tr>\n",
       "\t<tr><td>178538                 </td><td>\"Filip Djuricic\"       </td><td>5                      </td></tr>\n",
       "\t<tr><td> 22543                 </td><td>\"Radamel Falcao\"       </td><td>4                      </td></tr>\n",
       "\t<tr><td> 24123                 </td><td>\"Jonathan De Guzman\"   </td><td>4                      </td></tr>\n",
       "\t<tr><td> 25816                 </td><td>\"Almen Abdi\"           </td><td>4                      </td></tr>\n",
       "\t<tr><td> 26434                 </td><td>\"Ibrahim Afellay\"      </td><td>4                      </td></tr>\n",
       "\t<tr><td> 26489                 </td><td>\"Edson Braafheid\"      </td><td>4                      </td></tr>\n",
       "\t<tr><td> 26675                 </td><td>\"Eljero Elia\"          </td><td>4                      </td></tr>\n",
       "\t<tr><td> 30477                 </td><td>\"Danijel Pranjic\"      </td><td>4                      </td></tr>\n",
       "</tbody>\n",
       "</table>\n"
      ],
      "text/latex": [
       "\\begin{tabular}{r|lll}\n",
       " player\\_id & player\\_name & number\\_of\\_leagues\\\\\n",
       "\\hline\n",
       "\t  42119                  & \"Gelson Fernandes\"      & 6                      \\\\\n",
       "\t 116750                  & \"Ricky van Wolfswinkel\" & 5                      \\\\\n",
       "\t 178538                  & \"Filip Djuricic\"        & 5                      \\\\\n",
       "\t  22543                  & \"Radamel Falcao\"        & 4                      \\\\\n",
       "\t  24123                  & \"Jonathan De Guzman\"    & 4                      \\\\\n",
       "\t  25816                  & \"Almen Abdi\"            & 4                      \\\\\n",
       "\t  26434                  & \"Ibrahim Afellay\"       & 4                      \\\\\n",
       "\t  26489                  & \"Edson Braafheid\"       & 4                      \\\\\n",
       "\t  26675                  & \"Eljero Elia\"           & 4                      \\\\\n",
       "\t  30477                  & \"Danijel Pranjic\"       & 4                      \\\\\n",
       "\\end{tabular}\n"
      ],
      "text/markdown": [
       "\n",
       "player_id | player_name | number_of_leagues | \n",
       "|---|---|---|---|---|---|---|---|---|---|\n",
       "|  42119                  | \"Gelson Fernandes\"      | 6                       | \n",
       "| 116750                  | \"Ricky van Wolfswinkel\" | 5                       | \n",
       "| 178538                  | \"Filip Djuricic\"        | 5                       | \n",
       "|  22543                  | \"Radamel Falcao\"        | 4                       | \n",
       "|  24123                  | \"Jonathan De Guzman\"    | 4                       | \n",
       "|  25816                  | \"Almen Abdi\"            | 4                       | \n",
       "|  26434                  | \"Ibrahim Afellay\"       | 4                       | \n",
       "|  26489                  | \"Edson Braafheid\"       | 4                       | \n",
       "|  26675                  | \"Eljero Elia\"           | 4                       | \n",
       "|  30477                  | \"Danijel Pranjic\"       | 4                       | \n",
       "\n",
       "\n"
      ],
      "text/plain": [
       "   player_id player_name             number_of_leagues\n",
       "1   42119    \"Gelson Fernandes\"      6                \n",
       "2  116750    \"Ricky van Wolfswinkel\" 5                \n",
       "3  178538    \"Filip Djuricic\"        5                \n",
       "4   22543    \"Radamel Falcao\"        4                \n",
       "5   24123    \"Jonathan De Guzman\"    4                \n",
       "6   25816    \"Almen Abdi\"            4                \n",
       "7   26434    \"Ibrahim Afellay\"       4                \n",
       "8   26489    \"Edson Braafheid\"       4                \n",
       "9   26675    \"Eljero Elia\"           4                \n",
       "10  30477    \"Danijel Pranjic\"       4                "
      ]
     },
     "metadata": {},
     "output_type": "display_data"
    }
   ],
   "source": [
    "read.csv.sql(\"Player.csv\", \n",
    "    sql = \"select player_id,player_name,number_of_leagues from file order by number_of_leagues desc LIMIT 10\",\n",
    "eol=\"\\n\")"
   ]
  },
  {
   "cell_type": "markdown",
   "metadata": {},
   "source": [
    "- Quering the database for creating the Team.csv\n",
    " - Joining the tables Team and Team_Attributes on player_api_id\n",
    " - Calculating Max BuildUp points for every player using group by player_api_id and player_name\n",
    " - Calculating Max ChanceCreating points for every player using group by player_api_id and player_name\n",
    " - Calculating Max Defense points for every player using group by player_api_id and player_name\n",
    " - Replacing NULL values for the above fields with 0\n",
    " - Selecting Home_team_id and home_team_goals and performing a union all with away_team_id and away_team_goals\n",
    " - Grouping by team_id and counting he goals for each team"
   ]
  },
  {
   "cell_type": "code",
   "execution_count": 9,
   "metadata": {
    "collapsed": false
   },
   "outputs": [],
   "source": [
    "write.csv((dbGetQuery(conn = db,\"select teamName_goals.team_api_id,REPLACE(teamName_goals.team_long_name,',',';') as 'team_name',\n",
    "teamName_goals.goals,\n",
    "max(COALESCE(ta.buildUpPlaySpeed,0)+COALESCE(ta.buildUpPlayDribbling, 0)+COALESCE(ta.buildUpPlayPassing,0)) as 'build_up',\n",
    "max(COALESCE(ta.chanceCreationPassing,0)+COALESCE(ta.chanceCreationCrossing,0)+COALESCE(ta.chanceCreationShooting,0)) as 'chance_creation',\n",
    "max(COALESCE(ta.defencePressure,0)+COALESCE(ta.defenceAggression,0)+COALESCE(defenceTeamWidth,0)) as 'defense'\n",
    "from (select team_goals.team_api_id,t.team_long_name,sum(team_goals.team_goals) as 'goals'\n",
    "    from (select home_team_api_id as 'team_api_id', home_team_goal as 'team_goals'from Match m1\n",
    "    union all \n",
    "    select away_team_api_id as 'team_api_id', away_team_goal as 'team_goals' from Match m2) as 'team_goals' inner join Team t\n",
    "    on team_goals.team_api_id=t.team_api_id\n",
    "    group by team_goals.team_api_id,t.team_long_name) as 'teamName_goals'\n",
    "left join Team_attributes ta on ta.team_api_id=teamName_goals.team_api_id\n",
    "group by teamName_goals.team_api_id,teamName_goals.team_long_name\")),\n",
    "file = \"Team.csv\",row.names=FALSE)"
   ]
  },
  {
   "cell_type": "markdown",
   "metadata": {},
   "source": [
    "- **Question 5:** Which are the top 10 teams by sum of build up play attributes?"
   ]
  },
  {
   "cell_type": "code",
   "execution_count": 10,
   "metadata": {
    "collapsed": false
   },
   "outputs": [
    {
     "data": {
      "text/html": [
       "<table>\n",
       "<thead><tr><th scope=col>team_api_id</th><th scope=col>team_name</th><th scope=col>build_up_attributes</th></tr></thead>\n",
       "<tbody>\n",
       "\t<tr><td>  9804                      </td><td>\"Torino\"                    </td><td>209                         </td></tr>\n",
       "\t<tr><td>  8600                      </td><td>\"Udinese\"                   </td><td>205                         </td></tr>\n",
       "\t<tr><td><span style=white-space:pre-wrap>  8194</span>                            </td><td><span style=white-space:pre-wrap>\"Fortuna D&lt;fc&gt;sseldorf\"     </span></td><td>198                                                                       </td></tr>\n",
       "\t<tr><td>  8033                      </td><td>\"Podbeskidzie Bielsko-Biala\"</td><td>193                         </td></tr>\n",
       "\t<tr><td>  8245                      </td><td>\"Korona Kielce\"             </td><td>192                         </td></tr>\n",
       "\t<tr><td><span style=white-space:pre-wrap>  8024</span>                            </td><td><span style=white-space:pre-wrap>\"Widzew L&lt;f3&gt;dz\"            </span></td><td>190                                                                       </td></tr>\n",
       "\t<tr><td><span style=white-space:pre-wrap>  8244</span>                            </td><td><span style=white-space:pre-wrap>\"Widzew L&lt;f3&gt;dz\"            </span></td><td>190                                                                       </td></tr>\n",
       "\t<tr><td>208931                      </td><td>\"Carpi\"                     </td><td>190                         </td></tr>\n",
       "\t<tr><td>  9830                      </td><td>\"FC Nantes\"                 </td><td>189                         </td></tr>\n",
       "\t<tr><td>  7943                      </td><td>\"Sassuolo\"                  </td><td>188                         </td></tr>\n",
       "</tbody>\n",
       "</table>\n"
      ],
      "text/latex": [
       "\\begin{tabular}{r|lll}\n",
       " team\\_api\\_id & team\\_name & build\\_up\\_attributes\\\\\n",
       "\\hline\n",
       "\t   9804                       & \"Torino\"                     & 209                         \\\\\n",
       "\t   8600                       & \"Udinese\"                    & 205                         \\\\\n",
       "\t   8194                       & \"Fortuna D<fc>sseldorf\"      & 198                         \\\\\n",
       "\t   8033                       & \"Podbeskidzie Bielsko-Biala\" & 193                         \\\\\n",
       "\t   8245                       & \"Korona Kielce\"              & 192                         \\\\\n",
       "\t   8024                       & \"Widzew L<f3>dz\"             & 190                         \\\\\n",
       "\t   8244                       & \"Widzew L<f3>dz\"             & 190                         \\\\\n",
       "\t 208931                       & \"Carpi\"                      & 190                         \\\\\n",
       "\t   9830                       & \"FC Nantes\"                  & 189                         \\\\\n",
       "\t   7943                       & \"Sassuolo\"                   & 188                         \\\\\n",
       "\\end{tabular}\n"
      ],
      "text/markdown": [
       "\n",
       "team_api_id | team_name | build_up_attributes | \n",
       "|---|---|---|---|---|---|---|---|---|---|\n",
       "|   9804                       | \"Torino\"                     | 209                          | \n",
       "|   8600                       | \"Udinese\"                    | 205                          | \n",
       "|   8194                       | \"Fortuna D<fc>sseldorf\"      | 198                          | \n",
       "|   8033                       | \"Podbeskidzie Bielsko-Biala\" | 193                          | \n",
       "|   8245                       | \"Korona Kielce\"              | 192                          | \n",
       "|   8024                       | \"Widzew L<f3>dz\"             | 190                          | \n",
       "|   8244                       | \"Widzew L<f3>dz\"             | 190                          | \n",
       "| 208931                       | \"Carpi\"                      | 190                          | \n",
       "|   9830                       | \"FC Nantes\"                  | 189                          | \n",
       "|   7943                       | \"Sassuolo\"                   | 188                          | \n",
       "\n",
       "\n"
      ],
      "text/plain": [
       "   team_api_id team_name                    build_up_attributes\n",
       "1    9804      \"Torino\"                     209                \n",
       "2    8600      \"Udinese\"                    205                \n",
       "3    8194      \"Fortuna D<fc>sseldorf\"      198                \n",
       "4    8033      \"Podbeskidzie Bielsko-Biala\" 193                \n",
       "5    8245      \"Korona Kielce\"              192                \n",
       "6    8024      \"Widzew L<f3>dz\"             190                \n",
       "7    8244      \"Widzew L<f3>dz\"             190                \n",
       "8  208931      \"Carpi\"                      190                \n",
       "9    9830      \"FC Nantes\"                  189                \n",
       "10   7943      \"Sassuolo\"                   188                "
      ]
     },
     "metadata": {},
     "output_type": "display_data"
    }
   ],
   "source": [
    "read.csv.sql(\"Team.csv\", \n",
    "    sql = \"select team_api_id,team_name ,build_up as 'build_up_attributes' from file order by build_up desc LIMIT 10\",\n",
    "eol=\"\\n\")"
   ]
  },
  {
   "cell_type": "markdown",
   "metadata": {},
   "source": [
    "- **Question6:** Which are the top 10 teams by sum of chance creation attributes?"
   ]
  },
  {
   "cell_type": "code",
   "execution_count": 11,
   "metadata": {
    "collapsed": false
   },
   "outputs": [
    {
     "name": "stderr",
     "output_type": "stream",
     "text": [
      "Warning message:\n",
      "\"closing unused connection 7 (Team.csv)\"Warning message:\n",
      "\"closing unused connection 6 (Team.csv)\"Warning message:\n",
      "\"closing unused connection 5 (Team.csv)\"Warning message:\n",
      "\"closing unused connection 4 (Team.csv)\""
     ]
    },
    {
     "data": {
      "text/html": [
       "<table>\n",
       "<thead><tr><th scope=col>team_api_id</th><th scope=col>team_name</th><th scope=col>chance_creation_attributes</th></tr></thead>\n",
       "<tbody>\n",
       "\t<tr><td>8543                 </td><td>\"Lazio\"              </td><td>220                  </td></tr>\n",
       "\t<tr><td>8697                 </td><td>\"SV Werder Bremen\"   </td><td>216                  </td></tr>\n",
       "\t<tr><td>9875                 </td><td>\"Napoli\"             </td><td>215                  </td></tr>\n",
       "\t<tr><td>8178                 </td><td>\"Bayer 04 Leverkusen\"</td><td>210                  </td></tr>\n",
       "\t<tr><td>8191                 </td><td>\"Burnley\"            </td><td>210                  </td></tr>\n",
       "\t<tr><td>8344                 </td><td>\"Cardiff City\"       </td><td>210                  </td></tr>\n",
       "\t<tr><td>8456                 </td><td>\"Manchester City\"    </td><td>210                  </td></tr>\n",
       "\t<tr><td>8485                 </td><td>\"Aberdeen\"           </td><td>210                  </td></tr>\n",
       "\t<tr><td>8548                 </td><td>\"Rangers\"            </td><td>210                  </td></tr>\n",
       "\t<tr><td>8586                 </td><td>\"Tottenham Hotspur\"  </td><td>210                  </td></tr>\n",
       "</tbody>\n",
       "</table>\n"
      ],
      "text/latex": [
       "\\begin{tabular}{r|lll}\n",
       " team\\_api\\_id & team\\_name & chance\\_creation\\_attributes\\\\\n",
       "\\hline\n",
       "\t 8543                  & \"Lazio\"               & 220                  \\\\\n",
       "\t 8697                  & \"SV Werder Bremen\"    & 216                  \\\\\n",
       "\t 9875                  & \"Napoli\"              & 215                  \\\\\n",
       "\t 8178                  & \"Bayer 04 Leverkusen\" & 210                  \\\\\n",
       "\t 8191                  & \"Burnley\"             & 210                  \\\\\n",
       "\t 8344                  & \"Cardiff City\"        & 210                  \\\\\n",
       "\t 8456                  & \"Manchester City\"     & 210                  \\\\\n",
       "\t 8485                  & \"Aberdeen\"            & 210                  \\\\\n",
       "\t 8548                  & \"Rangers\"             & 210                  \\\\\n",
       "\t 8586                  & \"Tottenham Hotspur\"   & 210                  \\\\\n",
       "\\end{tabular}\n"
      ],
      "text/markdown": [
       "\n",
       "team_api_id | team_name | chance_creation_attributes | \n",
       "|---|---|---|---|---|---|---|---|---|---|\n",
       "| 8543                  | \"Lazio\"               | 220                   | \n",
       "| 8697                  | \"SV Werder Bremen\"    | 216                   | \n",
       "| 9875                  | \"Napoli\"              | 215                   | \n",
       "| 8178                  | \"Bayer 04 Leverkusen\" | 210                   | \n",
       "| 8191                  | \"Burnley\"             | 210                   | \n",
       "| 8344                  | \"Cardiff City\"        | 210                   | \n",
       "| 8456                  | \"Manchester City\"     | 210                   | \n",
       "| 8485                  | \"Aberdeen\"            | 210                   | \n",
       "| 8548                  | \"Rangers\"             | 210                   | \n",
       "| 8586                  | \"Tottenham Hotspur\"   | 210                   | \n",
       "\n",
       "\n"
      ],
      "text/plain": [
       "   team_api_id team_name             chance_creation_attributes\n",
       "1  8543        \"Lazio\"               220                       \n",
       "2  8697        \"SV Werder Bremen\"    216                       \n",
       "3  9875        \"Napoli\"              215                       \n",
       "4  8178        \"Bayer 04 Leverkusen\" 210                       \n",
       "5  8191        \"Burnley\"             210                       \n",
       "6  8344        \"Cardiff City\"        210                       \n",
       "7  8456        \"Manchester City\"     210                       \n",
       "8  8485        \"Aberdeen\"            210                       \n",
       "9  8548        \"Rangers\"             210                       \n",
       "10 8586        \"Tottenham Hotspur\"   210                       "
      ]
     },
     "metadata": {},
     "output_type": "display_data"
    }
   ],
   "source": [
    "read.csv.sql(\"Team.csv\", \n",
    "    sql = \"select team_api_id,team_name ,chance_creation as 'chance_creation_attributes' from file order by chance_creation desc LIMIT 10\",\n",
    "eol=\"\\n\")"
   ]
  },
  {
   "cell_type": "markdown",
   "metadata": {},
   "source": [
    "- **Question 7:** Which are the top 10 teams by sum of defense attributes?"
   ]
  },
  {
   "cell_type": "code",
   "execution_count": 12,
   "metadata": {
    "collapsed": false
   },
   "outputs": [
    {
     "data": {
      "text/html": [
       "<table>\n",
       "<thead><tr><th scope=col>team_api_id</th><th scope=col>team_name</th><th scope=col>defense_attributes</th></tr></thead>\n",
       "<tbody>\n",
       "\t<tr><td>1957                   </td><td>\"Jagiellonia Bialystok\"</td><td>210                    </td></tr>\n",
       "\t<tr><td>7794                   </td><td>\"SC Bastia\"            </td><td>210                    </td></tr>\n",
       "\t<tr><td>8021                   </td><td>\"Zaglebie Lubin\"       </td><td>210                    </td></tr>\n",
       "\t<tr><td>8197                   </td><td>\"Leicester City\"       </td><td>210                    </td></tr>\n",
       "\t<tr><td>8344                   </td><td>\"Cardiff City\"         </td><td>210                    </td></tr>\n",
       "\t<tr><td>8350                   </td><td>\"1. FC Kaiserslautern\" </td><td>210                    </td></tr>\n",
       "\t<tr><td>8466                   </td><td>\"Southampton\"          </td><td>210                    </td></tr>\n",
       "\t<tr><td>8481                   </td><td>\"AS Nancy-Lorraine\"    </td><td>210                    </td></tr>\n",
       "\t<tr><td>8483                   </td><td>\"Blackpool\"            </td><td>210                    </td></tr>\n",
       "\t<tr><td>8521                   </td><td>\"Stade Brestois 29\"    </td><td>210                    </td></tr>\n",
       "</tbody>\n",
       "</table>\n"
      ],
      "text/latex": [
       "\\begin{tabular}{r|lll}\n",
       " team\\_api\\_id & team\\_name & defense\\_attributes\\\\\n",
       "\\hline\n",
       "\t 1957                    & \"Jagiellonia Bialystok\" & 210                    \\\\\n",
       "\t 7794                    & \"SC Bastia\"             & 210                    \\\\\n",
       "\t 8021                    & \"Zaglebie Lubin\"        & 210                    \\\\\n",
       "\t 8197                    & \"Leicester City\"        & 210                    \\\\\n",
       "\t 8344                    & \"Cardiff City\"          & 210                    \\\\\n",
       "\t 8350                    & \"1. FC Kaiserslautern\"  & 210                    \\\\\n",
       "\t 8466                    & \"Southampton\"           & 210                    \\\\\n",
       "\t 8481                    & \"AS Nancy-Lorraine\"     & 210                    \\\\\n",
       "\t 8483                    & \"Blackpool\"             & 210                    \\\\\n",
       "\t 8521                    & \"Stade Brestois 29\"     & 210                    \\\\\n",
       "\\end{tabular}\n"
      ],
      "text/markdown": [
       "\n",
       "team_api_id | team_name | defense_attributes | \n",
       "|---|---|---|---|---|---|---|---|---|---|\n",
       "| 1957                    | \"Jagiellonia Bialystok\" | 210                     | \n",
       "| 7794                    | \"SC Bastia\"             | 210                     | \n",
       "| 8021                    | \"Zaglebie Lubin\"        | 210                     | \n",
       "| 8197                    | \"Leicester City\"        | 210                     | \n",
       "| 8344                    | \"Cardiff City\"          | 210                     | \n",
       "| 8350                    | \"1. FC Kaiserslautern\"  | 210                     | \n",
       "| 8466                    | \"Southampton\"           | 210                     | \n",
       "| 8481                    | \"AS Nancy-Lorraine\"     | 210                     | \n",
       "| 8483                    | \"Blackpool\"             | 210                     | \n",
       "| 8521                    | \"Stade Brestois 29\"     | 210                     | \n",
       "\n",
       "\n"
      ],
      "text/plain": [
       "   team_api_id team_name               defense_attributes\n",
       "1  1957        \"Jagiellonia Bialystok\" 210               \n",
       "2  7794        \"SC Bastia\"             210               \n",
       "3  8021        \"Zaglebie Lubin\"        210               \n",
       "4  8197        \"Leicester City\"        210               \n",
       "5  8344        \"Cardiff City\"          210               \n",
       "6  8350        \"1. FC Kaiserslautern\"  210               \n",
       "7  8466        \"Southampton\"           210               \n",
       "8  8481        \"AS Nancy-Lorraine\"     210               \n",
       "9  8483        \"Blackpool\"             210               \n",
       "10 8521        \"Stade Brestois 29\"     210               "
      ]
     },
     "metadata": {},
     "output_type": "display_data"
    }
   ],
   "source": [
    "read.csv.sql(\"Team.csv\", \n",
    "    sql = \"select team_api_id,team_name ,defense as 'defense_attributes' from file order by defense desc LIMIT 10\",\n",
    "eol=\"\\n\")"
   ]
  },
  {
   "cell_type": "markdown",
   "metadata": {},
   "source": [
    "- **Question 8:** Which are the top 10 teams by number of scored goals?"
   ]
  },
  {
   "cell_type": "code",
   "execution_count": 13,
   "metadata": {
    "collapsed": false
   },
   "outputs": [
    {
     "name": "stderr",
     "output_type": "stream",
     "text": [
      "Warning message:\n",
      "\"closing unused connection 6 (Team.csv)\"Warning message:\n",
      "\"closing unused connection 5 (Team.csv)\"Warning message:\n",
      "\"closing unused connection 4 (Team.csv)\""
     ]
    },
    {
     "data": {
      "text/html": [
       "<table>\n",
       "<thead><tr><th scope=col>team_api_id</th><th scope=col>team_name</th><th scope=col>goals</th></tr></thead>\n",
       "<tbody>\n",
       "\t<tr><td> 8634              </td><td>\"FC Barcelona\"     </td><td>849                </td></tr>\n",
       "\t<tr><td> 8633              </td><td>\"Real Madrid CF\"   </td><td>843                </td></tr>\n",
       "\t<tr><td> 9925              </td><td>\"Celtic\"           </td><td>695                </td></tr>\n",
       "\t<tr><td> 9823              </td><td>\"FC Bayern Munich\" </td><td>653                </td></tr>\n",
       "\t<tr><td> 8640              </td><td>\"PSV\"              </td><td>652                </td></tr>\n",
       "\t<tr><td> 8593              </td><td>\"Ajax\"             </td><td>647                </td></tr>\n",
       "\t<tr><td> 9931              </td><td>\"FC Basel\"         </td><td>619                </td></tr>\n",
       "\t<tr><td> 8456              </td><td>\"Manchester City\"  </td><td>606                </td></tr>\n",
       "\t<tr><td> 8455              </td><td>\"Chelsea\"          </td><td>583                </td></tr>\n",
       "\t<tr><td>10260              </td><td>\"Manchester United\"</td><td>582                </td></tr>\n",
       "</tbody>\n",
       "</table>\n"
      ],
      "text/latex": [
       "\\begin{tabular}{r|lll}\n",
       " team\\_api\\_id & team\\_name & goals\\\\\n",
       "\\hline\n",
       "\t  8634               & \"FC Barcelona\"      & 849                \\\\\n",
       "\t  8633               & \"Real Madrid CF\"    & 843                \\\\\n",
       "\t  9925               & \"Celtic\"            & 695                \\\\\n",
       "\t  9823               & \"FC Bayern Munich\"  & 653                \\\\\n",
       "\t  8640               & \"PSV\"               & 652                \\\\\n",
       "\t  8593               & \"Ajax\"              & 647                \\\\\n",
       "\t  9931               & \"FC Basel\"          & 619                \\\\\n",
       "\t  8456               & \"Manchester City\"   & 606                \\\\\n",
       "\t  8455               & \"Chelsea\"           & 583                \\\\\n",
       "\t 10260               & \"Manchester United\" & 582                \\\\\n",
       "\\end{tabular}\n"
      ],
      "text/markdown": [
       "\n",
       "team_api_id | team_name | goals | \n",
       "|---|---|---|---|---|---|---|---|---|---|\n",
       "|  8634               | \"FC Barcelona\"      | 849                 | \n",
       "|  8633               | \"Real Madrid CF\"    | 843                 | \n",
       "|  9925               | \"Celtic\"            | 695                 | \n",
       "|  9823               | \"FC Bayern Munich\"  | 653                 | \n",
       "|  8640               | \"PSV\"               | 652                 | \n",
       "|  8593               | \"Ajax\"              | 647                 | \n",
       "|  9931               | \"FC Basel\"          | 619                 | \n",
       "|  8456               | \"Manchester City\"   | 606                 | \n",
       "|  8455               | \"Chelsea\"           | 583                 | \n",
       "| 10260               | \"Manchester United\" | 582                 | \n",
       "\n",
       "\n"
      ],
      "text/plain": [
       "   team_api_id team_name           goals\n",
       "1   8634       \"FC Barcelona\"      849  \n",
       "2   8633       \"Real Madrid CF\"    843  \n",
       "3   9925       \"Celtic\"            695  \n",
       "4   9823       \"FC Bayern Munich\"  653  \n",
       "5   8640       \"PSV\"               652  \n",
       "6   8593       \"Ajax\"              647  \n",
       "7   9931       \"FC Basel\"          619  \n",
       "8   8456       \"Manchester City\"   606  \n",
       "9   8455       \"Chelsea\"           583  \n",
       "10 10260       \"Manchester United\" 582  "
      ]
     },
     "metadata": {},
     "output_type": "display_data"
    }
   ],
   "source": [
    "read.csv.sql(\"Team.csv\", \n",
    "    sql = \"select team_api_id,team_name,goals from file order by goals desc LIMIT 10\",\n",
    "eol=\"\\n\")"
   ]
  },
  {
   "cell_type": "code",
   "execution_count": null,
   "metadata": {
    "collapsed": true
   },
   "outputs": [],
   "source": []
  }
 ],
 "metadata": {
  "kernelspec": {
   "display_name": "R",
   "language": "R",
   "name": "ir"
  },
  "language_info": {
   "codemirror_mode": "r",
   "file_extension": ".r",
   "mimetype": "text/x-r-source",
   "name": "R",
   "pygments_lexer": "r",
   "version": "3.3.2"
  }
 },
 "nbformat": 4,
 "nbformat_minor": 2
}
