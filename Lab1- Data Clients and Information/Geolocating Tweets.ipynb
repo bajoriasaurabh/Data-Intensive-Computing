{
 "cells": [
  {
   "cell_type": "markdown",
   "metadata": {
    "collapsed": false
   },
   "source": [
    "                                                                                                         Saurabh Bajoria\n",
    "                                                                                                         UBid: sbajoria\n",
    "                                                                                                         Person no:50208005\n",
    "\n",
    "**CSE 4/587 Data Intensive Computing**\n",
    "====================\n",
    "***LAB1: Data Clients and Information Servers***\n",
    "---------------------------------------\n",
    "                                                                                                       \n",
    "\n",
    "*Problem1*\n",
    "--------------------------------------\n",
    "\n",
    "\n",
    "\n",
    "Data client processing: Obtain and group tweets by location and plot the groups by size on the map of the USA\n",
    "\n",
    "- Note:\n",
    " 1. Extracted tweets for topic \"#superbowl\"\n",
    " 2. Used CSV to store and retrieve data\n",
    " 3. Divided the map into bins, and took the average location to plot a point depending on the number of tweets in that bin\n",
    "\n",
    " \n",
    " \n",
    " **References: \n",
    " 1. http://stackoverflow.com/\n",
    " 2. Official documentations of twitteR, ggmap, ggplot, RSQLite\n",
    " 3. https://www.r-bloggers.com/\n",
    " \n",
    "\n",
    "- Importing Libraries required"
   ]
  },
  {
   "cell_type": "code",
   "execution_count": null,
   "metadata": {
    "collapsed": false
   },
   "outputs": [],
   "source": [
    "library(RSQLite)\n",
    "library(ggmap)\n",
    "library(readr)\n",
    "library(twitteR)\n",
    "library(ggplot2)\n",
    "library(maps)"
   ]
  },
  {
   "cell_type": "markdown",
   "metadata": {},
   "source": [
    "- Tweet topic: *superbowl*"
   ]
  },
  {
   "cell_type": "code",
   "execution_count": null,
   "metadata": {
    "collapsed": true
   },
   "outputs": [],
   "source": [
    "text=\"#superbowl\""
   ]
  },
  {
   "cell_type": "markdown",
   "metadata": {},
   "source": [
    "- Authentication for Twitter API, required to extract tweets from Twitter"
   ]
  },
  {
   "cell_type": "code",
   "execution_count": null,
   "metadata": {
    "collapsed": false
   },
   "outputs": [],
   "source": [
    "consumer_key <-'0rnEKoYQGRaumOd70HSbwpSM6'\n",
    "consumer_secret <- 'kmqdpKcMHsOqeVY2MgSTXMPoZsLTLlyrxlIEmvJPb7ULp6Gjh6'\n",
    "access_token <- '805074888419635202-i0IlVwS7UR7vq7sMg9BSY431VyJ2Tyj'\n",
    "access_secret <- 'P089q9h1GHxw9ER9UCB5ZqM4Y1ng7uH5VmaT8aubK6drt'\n",
    "setup_twitter_oauth(consumer_key,consumer_secret,access_token,access_secret)"
   ]
  },
  {
   "cell_type": "markdown",
   "metadata": {},
   "source": [
    "- Issuing a search on Twitter based on the search string supplied"
   ]
  },
  {
   "cell_type": "code",
   "execution_count": null,
   "metadata": {
    "collapsed": false
   },
   "outputs": [],
   "source": [
    "tweetList <- searchTwitter(text,n=40000)"
   ]
  },
  {
   "cell_type": "markdown",
   "metadata": {},
   "source": [
    "- Converting the list type *tweetList* to a Data frame *tweetsDf*"
   ]
  },
  {
   "cell_type": "code",
   "execution_count": null,
   "metadata": {
    "collapsed": false
   },
   "outputs": [],
   "source": [
    "tweetsDf<- twListToDF(tweetList)"
   ]
  },
  {
   "cell_type": "markdown",
   "metadata": {},
   "source": [
    "- Using the *screenName* column of the data frame, extracting the list of user information using lookup. Also, converting the list to a data frame using twListToDf"
   ]
  },
  {
   "cell_type": "code",
   "execution_count": null,
   "metadata": {
    "collapsed": false
   },
   "outputs": [],
   "source": [
    "userInfoDf <- twListToDF(lookupUsers(tweetsDf$screenName))"
   ]
  },
  {
   "cell_type": "markdown",
   "metadata": {},
   "source": [
    "- Removing the rows containing NA values"
   ]
  },
  {
   "cell_type": "code",
   "execution_count": null,
   "metadata": {
    "collapsed": true
   },
   "outputs": [],
   "source": [
    "userInfoDf <- na.omit(userInfoDf)"
   ]
  },
  {
   "cell_type": "markdown",
   "metadata": {},
   "source": [
    "- Writing the UserInfo and the tweets in  CSV(Comma Seperated values) format files UserInfo and Tweets respectively"
   ]
  },
  {
   "cell_type": "code",
   "execution_count": null,
   "metadata": {
    "collapsed": false
   },
   "outputs": [],
   "source": [
    "write.csv(tweetsDf, file=\"Tweets.csv\")\n",
    "write.csv(userInfoDf, file=\"UserInfo.csv\")"
   ]
  },
  {
   "cell_type": "markdown",
   "metadata": {},
   "source": [
    "- Read all the user information from the CSV file into a data frame *userInfoDf*"
   ]
  },
  {
   "cell_type": "code",
   "execution_count": null,
   "metadata": {
    "collapsed": false
   },
   "outputs": [],
   "source": [
    "userInfoDf <- read.csv(\"UserInfo.csv\", header = TRUE, sep = \",\", quote = \"\\\"\",\n",
    "         dec = \".\", fill = TRUE)"
   ]
  },
  {
   "cell_type": "markdown",
   "metadata": {},
   "source": [
    "1. Taking the first 2500 locations from the userInfoDf into a list *locations*\n",
    "2. Getting the geocodes of the locations into a dataframe *locationCodes*\n",
    "\n",
    "*To be run on day 1*"
   ]
  },
  {
   "cell_type": "code",
   "execution_count": null,
   "metadata": {
    "collapsed": false
   },
   "outputs": [],
   "source": [
    "locations<- userInfoDf[1:10,]$location\n",
    "locationCodes <- geocode(as.character(locations))\n",
    "write.table(locationCodes, file=\"LocationCodes.csv\", sep=\",\",row.names=F)"
   ]
  },
  {
   "cell_type": "markdown",
   "metadata": {},
   "source": [
    "1. Taking the next 2500 locations from the userInfoDf into a list *locations*\n",
    "2. Getting the geocodes of the locations and appending it to the dataframe *locationCodes*\n",
    "\n",
    "    *(Doing it in batches of 2500 because of the limit of Google API)*\n",
    "    \n",
    "*To be run on day 2*"
   ]
  },
  {
   "cell_type": "code",
   "execution_count": null,
   "metadata": {
    "collapsed": false
   },
   "outputs": [],
   "source": [
    "locations<- userInfoDf[2500:2510,]$location\n",
    "locationCodes <- geocode(as.character(locations))\n",
    "write.table(locationCodes, file=\"LocationCodes.csv\",sep=\",\", col.names=F, row.names=F,append=T)"
   ]
  },
  {
   "cell_type": "markdown",
   "metadata": {},
   "source": [
    "- Read the LocationCodes from the CSV to a dataframe *locationCodes*"
   ]
  },
  {
   "cell_type": "code",
   "execution_count": null,
   "metadata": {
    "collapsed": false
   },
   "outputs": [],
   "source": [
    "locationCodes <- read.csv(\"LocationCodes.csv\", header = TRUE, sep = \",\", quote = \"\\\"\",\n",
    "         dec = \".\", fill = TRUE)"
   ]
  },
  {
   "cell_type": "markdown",
   "metadata": {},
   "source": [
    "- Creating a new dataframe"
   ]
  },
  {
   "cell_type": "code",
   "execution_count": null,
   "metadata": {
    "collapsed": true
   },
   "outputs": [],
   "source": [
    "df = data.frame(lat = character(0), lon = character(0), freq = numeric(0));"
   ]
  },
  {
   "cell_type": "markdown",
   "metadata": {},
   "source": [
    "- Dividing the Map of USA into blocks and mapping the points in those blocks to a common point"
   ]
  },
  {
   "cell_type": "code",
   "execution_count": null,
   "metadata": {
    "collapsed": false
   },
   "outputs": [],
   "source": [
    "for(i in 1:nrow(locationCodes))\n",
    "{\n",
    "if(locationCodes[i,]$lon>=-125 && locationCodes[i,]$lon<=-117 && locationCodes[i,]$lat>=43 && locationCodes[i,]$lat<48)\n",
    "{ \n",
    " newrow = data.frame(lat=-121.00,lon=45.50,freq=1)\n",
    " df <- rbind(df, newrow)\n",
    "}\n",
    "else if(locationCodes[i,]$lon>=-125 && locationCodes[i,]$lon<=-117 && locationCodes[i,]$lat>=37 && locationCodes[i,]$lat<43)\n",
    "{ \n",
    " newrow = data.frame(lat=-121.00,lon=39.50,freq=1)\n",
    " df <- rbind(df, newrow)\n",
    "}\n",
    "else if(locationCodes[i,]$lon>=-125 && locationCodes[i,]$lon<=-117 && locationCodes[i,]$lat>=32 && locationCodes[i,]$lat<37)\n",
    "{ \n",
    " newrow = data.frame(lat=-116.00,lon=34.50,freq=1)\n",
    " df <- rbind(df, newrow)\n",
    "}\n",
    "else if(locationCodes[i,]$lon>=-117 && locationCodes[i,]$lon<=-110 && locationCodes[i,]$lat>=43 && locationCodes[i,]$lat<48)\n",
    "{ \n",
    " newrow = data.frame(lat=-113.50,lon=45.50,freq=1)\n",
    " df <- rbind(df, newrow)\n",
    "}\n",
    "else if(locationCodes[i,]$lon>=-117 && locationCodes[i,]$lon<=-110 && locationCodes[i,]$lat>=37 && locationCodes[i,]$lat<43)\n",
    "{ \n",
    " newrow = data.frame(lat=-113.50,lon=39.50,freq=1)\n",
    " df <- rbind(df, newrow)\n",
    "}\n",
    "else if(locationCodes[i,]$lon>=-117 && locationCodes[i,]$lon<=-110 && locationCodes[i,]$lat>=32 && locationCodes[i,]$lat<37)\n",
    "{ \n",
    " newrow = data.frame(lat=-113.50,lon=34.50,freq=1)\n",
    " df <- rbind(df, newrow)\n",
    "}\n",
    "else if(locationCodes[i,]$lon>=-110 && locationCodes[i,]$lon<=-103 && locationCodes[i,]$lat>=43 && locationCodes[i,]$lat<48)\n",
    "{ \n",
    " newrow = data.frame(lat=-106.50,lon=45.50,freq=1)\n",
    " df <- rbind(df, newrow)\n",
    "} \n",
    "else if(locationCodes[i,]$lon>=-110 && locationCodes[i,]$lon<=-103 && locationCodes[i,]$lat>=37 && locationCodes[i,]$lat<43)\n",
    "{ \n",
    " newrow = data.frame(lat=-106.50,lon=39.50,freq=1)\n",
    " df <- rbind(df, newrow)\n",
    "}\n",
    "else if(locationCodes[i,]$lon>=-110 && locationCodes[i,]$lon<=-103 && locationCodes[i,]$lat>=32 && locationCodes[i,]$lat<37)\n",
    "{ \n",
    " newrow = data.frame(lat=-106.50,lon=34.50,freq=1)\n",
    " df <- rbind(df, newrow)\n",
    "}\n",
    "else if(locationCodes[i,]$lon>=-103 && locationCodes[i,]$lon<=-97 && locationCodes[i,]$lat>=43 && locationCodes[i,]$lat<48)\n",
    "{ \n",
    " newrow = data.frame(lat=-100.00,lon=45.50,freq=1)\n",
    " df <- rbind(df, newrow)\n",
    "}\n",
    "else if(locationCodes[i,]$lon>=-103 && locationCodes[i,]$lon<=-97 && locationCodes[i,]$lat>=37 && locationCodes[i,]$lat<43)\n",
    "{ \n",
    " newrow = data.frame(lat=-100.00,lon=39.50,freq=1)\n",
    " df <- rbind(df, newrow)\n",
    "}\n",
    "else if(locationCodes[i,]$lon>=-103 && locationCodes[i,]$lon<=-97 && locationCodes[i,]$lat>=32 && locationCodes[i,]$lat<37)\n",
    "{ \n",
    " newrow = data.frame(lat=-100.00,lon=34.50,freq=1)\n",
    " df <- rbind(df, newrow)\n",
    "}\n",
    "else if(locationCodes[i,]$lon>=-97 && locationCodes[i,]$lon<=-90 && locationCodes[i,]$lat>=43 && locationCodes[i,]$lat<48)\n",
    "{ \n",
    " newrow = data.frame(lat=-93.50,lon=45.50,freq=1)\n",
    " df <- rbind(df, newrow)\n",
    "}\n",
    "else if(locationCodes[i,]$lon>=-97 && locationCodes[i,]$lon<=-90 && locationCodes[i,]$lat>=37 && locationCodes[i,]$lat<43)\n",
    "{ \n",
    " newrow = data.frame(lat=-93.50,lon=39.50,freq=1)\n",
    " df <- rbind(df, newrow)\n",
    "}\n",
    "else if(locationCodes[i,]$lon>=-97 && locationCodes[i,]$lon<=-90 && locationCodes[i,]$lat>=32 && locationCodes[i,]$lat<37)\n",
    "{ \n",
    " newrow = data.frame(lat=-93.50,lon=34.50,freq=1)\n",
    " df <- rbind(df, newrow)\n",
    "}\n",
    "else if(locationCodes[i,]$lon>=-90 && locationCodes[i,]$lon<=-83 && locationCodes[i,]$lat>=43 && locationCodes[i,]$lat<48)\n",
    "{ \n",
    " newrow = data.frame(lat=-86.50,lon=45.50,freq=1)\n",
    " df <- rbind(df, newrow)\n",
    "}\n",
    "else if(locationCodes[i,]$lon>=-90 && locationCodes[i,]$lon<=-83 && locationCodes[i,]$lat>=37 && locationCodes[i,]$lat<43)\n",
    "{ \n",
    " newrow = data.frame(lat=-86.50,lon=39.50,freq=1)\n",
    " df <- rbind(df, newrow)\n",
    "}\n",
    "else if(locationCodes[i,]$lon>=-90 && locationCodes[i,]$lon<=-83 && locationCodes[i,]$lat>=32 && locationCodes[i,]$lat<37)\n",
    "{ \n",
    " newrow = data.frame(lat=-86.50,lon=34.50,freq=1)\n",
    " df <- rbind(df, newrow)\n",
    "}\n",
    "\n",
    "else if(locationCodes[i,]$lon>=-83 && locationCodes[i,]$lon<=-77 && locationCodes[i,]$lat>=37 && locationCodes[i,]$lat<43)\n",
    "{ \n",
    " newrow = data.frame(lat=-80.00,lon=39.50,freq=1)\n",
    " df <- rbind(df, newrow)\n",
    "}\n",
    "else if(locationCodes[i,]$lon>=-83 && locationCodes[i,]$lon<=-77 && locationCodes[i,]$lat>=32 && locationCodes[i,]$lat<37)\n",
    "{ \n",
    " newrow = data.frame(lat=-80.00,lon=34.50,freq=1)\n",
    " df <- rbind(df, newrow)\n",
    "}\n",
    "\n",
    "else if(locationCodes[i,]$lon>=-77 && locationCodes[i,]$lon<=-70 && locationCodes[i,]$lat>=37 && locationCodes[i,]$lat<43)\n",
    "{ \n",
    " newrow = data.frame(lat=-73.50,lon=39.50,freq=1)\n",
    " df <- rbind(df, newrow)\n",
    "}\n",
    "else if(locationCodes[i,]$lon>=-77 && locationCodes[i,]$lon<=-70 && locationCodes[i,]$lat>=32 && locationCodes[i,]$lat<37)\n",
    "{ \n",
    " newrow = data.frame(lat=-73.50,lon=34.50,freq=1)\n",
    " df <- rbind(df, newrow)\n",
    "}\n",
    "else if(locationCodes[i,]$lon>=-70 && locationCodes[i,]$lon<=-63 && locationCodes[i,]$lat>=37 && locationCodes[i,]$lat<43)\n",
    "{ \n",
    " newrow = data.frame(lat=-66.50,lon=44.50,freq=1)\n",
    " df <- rbind(df, newrow)\n",
    "}\n",
    "else if(locationCodes[i,]$lon>=-70 && locationCodes[i,]$lon<=-63 && locationCodes[i,]$lat>=32 && locationCodes[i,]$lat<37)\n",
    "{ \n",
    " newrow = data.frame(lat=-66.50,lon=34.50,freq=1)\n",
    " df <- rbind(df, newrow)\n",
    "}\n",
    "    else if(locationCodes[i,]$lon>=-105 && locationCodes[i,]$lon<=-90 && locationCodes[i,]$lat>=26 && locationCodes[i,]$lat<32)\n",
    "{ \n",
    " newrow = data.frame(lat=-98.50,lon=27,freq=1)\n",
    " df <- rbind(df, newrow)\n",
    "}\n",
    "}\n"
   ]
  },
  {
   "cell_type": "markdown",
   "metadata": {},
   "source": [
    "- Aggregating(Grouping) and getting the frequency of the Latitude and Longitude Pair and storing it in a dataframe *frequency*"
   ]
  },
  {
   "cell_type": "code",
   "execution_count": null,
   "metadata": {
    "collapsed": false
   },
   "outputs": [],
   "source": [
    "frequency <- aggregate(numeric(nrow(df)), df[c(\"lat\", \"lon\")], length)"
   ]
  },
  {
   "cell_type": "markdown",
   "metadata": {},
   "source": [
    "- Writing the Location details with frequency in a CSV(Comma Seperated values) format file *Frequency*"
   ]
  },
  {
   "cell_type": "code",
   "execution_count": null,
   "metadata": {
    "collapsed": true
   },
   "outputs": [],
   "source": [
    "write.csv(frequency, file=\"Frequency.csv\")"
   ]
  },
  {
   "cell_type": "markdown",
   "metadata": {},
   "source": [
    "- Read the Location details with frequency in a dataframe *frequency*"
   ]
  },
  {
   "cell_type": "code",
   "execution_count": null,
   "metadata": {
    "collapsed": true
   },
   "outputs": [],
   "source": [
    "frequency <- read.csv(\"Frequency.csv\", header = TRUE, sep = \",\", quote = \"\\\"\",\n",
    "         dec = \".\", fill = TRUE)"
   ]
  },
  {
   "cell_type": "markdown",
   "metadata": {},
   "source": [
    "- Calculating the maximum of the frequencies\n",
    "\n",
    " *Used for varying the size of the points to be plotted on the map*"
   ]
  },
  {
   "cell_type": "code",
   "execution_count": null,
   "metadata": {
    "collapsed": false
   },
   "outputs": [],
   "source": [
    "max <- max(frequency$x)\n",
    "temp <- max/10"
   ]
  },
  {
   "cell_type": "markdown",
   "metadata": {},
   "source": [
    "1. Getting the Map of USA from source *Google*\n",
    "2. Plotting the points from the *frequency* dataframe with varying size depending on the number of times that location is encountered"
   ]
  },
  {
   "cell_type": "code",
   "execution_count": 44,
   "metadata": {
    "collapsed": false
   },
   "outputs": [
    {
     "data": {
      "image/png": "[encoded data removed]",
      "text/plain": [
       "plot without title"
      ]
     },
     "metadata": {},
     "output_type": "display_data"
    }
   ],
   "source": [
    "map(\"state\", fill=TRUE, col=\"grey\", bg=\"white\", mar=c(0,0,0,0))\n",
    "points(frequency$lat, frequency$lon, col=\"red\", pch=16,cex=(frequency$x/temp))\n"
   ]
  },
  {
   "cell_type": "code",
   "execution_count": null,
   "metadata": {
    "collapsed": true
   },
   "outputs": [],
   "source": []
  }
 ],
 "metadata": {
  "kernelspec": {
   "display_name": "R",
   "language": "R",
   "name": "ir"
  },
  "language_info": {
   "codemirror_mode": "r",
   "file_extension": ".r",
   "mimetype": "text/x-r-source",
   "name": "R",
   "pygments_lexer": "r",
   "version": "3.3.2"
  }
 },
 "nbformat": 4,
 "nbformat_minor": 2
}
