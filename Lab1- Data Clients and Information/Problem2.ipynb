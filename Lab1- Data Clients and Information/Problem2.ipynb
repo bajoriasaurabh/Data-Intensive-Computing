{
 "cells": [
  {
   "cell_type": "markdown",
   "metadata": {
    "collapsed": true
   },
   "source": [
    "                                                                                                         Saurabh Bajoria\n",
    "                                                                                                         UBid: sbajoria\n",
    "                                                                                                         Person no:50208005\n",
    "\n",
    "**CSE 4/587 Data Intensive Computing**\n",
    "====================\n",
    "***LAB1: Data Clients and Information Servers***\n",
    "---------------------------------------\n",
    "                                                                                                       \n",
    "\n",
    "*Problem2*\n",
    "--------------------------------------\n",
    "\n",
    "\n",
    "\n",
    "Summarizing trending topics about a location\n",
    "\n",
    "\n",
    "**References: \n",
    " 1. http://stackoverflow.com/\n",
    " 2. Official documentations of twitteR, ggmap, ggplot, RSQLite\n",
    " 3. https://www.r-bloggers.com/\n",
    "\n",
    "\n",
    "- Importing Libraries required"
   ]
  },
  {
   "cell_type": "code",
   "execution_count": 1,
   "metadata": {
    "collapsed": false
   },
   "outputs": [
    {
     "name": "stderr",
     "output_type": "stream",
     "text": [
      "Loading required package: ggplot2\n"
     ]
    }
   ],
   "source": [
    "library(twitteR)\n",
    "library(ggmap)"
   ]
  },
  {
   "cell_type": "markdown",
   "metadata": {
    "collapsed": false
   },
   "source": [
    "- Authentication for Twitter API, required to get the trending topics"
   ]
  },
  {
   "cell_type": "code",
   "execution_count": 2,
   "metadata": {
    "collapsed": false
   },
   "outputs": [
    {
     "name": "stdout",
     "output_type": "stream",
     "text": [
      "[1] \"Using direct authentication\"\n"
     ]
    }
   ],
   "source": [
    "consumer_key <-'0rnEKoYQGRaumOd70HSbwpSM6'\n",
    "consumer_secret <- 'kmqdpKcMHsOqeVY2MgSTXMPoZsLTLlyrxlIEmvJPb7ULp6Gjh6'\n",
    "access_token <- '805074888419635202-i0IlVwS7UR7vq7sMg9BSY431VyJ2Tyj'\n",
    "access_secret <- 'P089q9h1GHxw9ER9UCB5ZqM4Y1ng7uH5VmaT8aubK6drt'\n",
    "setup_twitter_oauth(consumer_key,consumer_secret,access_token,access_secret)"
   ]
  },
  {
   "cell_type": "markdown",
   "metadata": {},
   "source": [
    "- Variable to store the location"
   ]
  },
  {
   "cell_type": "code",
   "execution_count": 3,
   "metadata": {
    "collapsed": true
   },
   "outputs": [],
   "source": [
    "location <- \"New York\""
   ]
  },
  {
   "cell_type": "markdown",
   "metadata": {},
   "source": [
    "- Get the geocode of the location using the *geocode* function and storing it in a dataframe *locationCodes*"
   ]
  },
  {
   "cell_type": "code",
   "execution_count": 4,
   "metadata": {
    "collapsed": false
   },
   "outputs": [
    {
     "name": "stderr",
     "output_type": "stream",
     "text": [
      "Information from URL : http://maps.googleapis.com/maps/api/geocode/json?address=New%20York&sensor=false\n"
     ]
    }
   ],
   "source": [
    "locationCodes <- geocode(location)"
   ]
  },
  {
   "cell_type": "markdown",
   "metadata": {},
   "source": [
    "- Get the closest trending location's woeid"
   ]
  },
  {
   "cell_type": "code",
   "execution_count": 5,
   "metadata": {
    "collapsed": true
   },
   "outputs": [],
   "source": [
    "woeid <- closestTrendLocations(locationCodes$lat,locationCodes$lon)$woeid"
   ]
  },
  {
   "cell_type": "markdown",
   "metadata": {},
   "source": [
    "- Get the trending topics using the woeid"
   ]
  },
  {
   "cell_type": "code",
   "execution_count": 6,
   "metadata": {
    "collapsed": false
   },
   "outputs": [],
   "source": [
    "trendingTopics<- getTrends(woeid)"
   ]
  },
  {
   "cell_type": "markdown",
   "metadata": {},
   "source": [
    "- Printing the names of the top 10 trending topics"
   ]
  },
  {
   "cell_type": "code",
   "execution_count": 7,
   "metadata": {
    "collapsed": false
   },
   "outputs": [
    {
     "data": {
      "text/html": [
       "<ol class=list-inline>\n",
       "\t<li>'#married2med'</li>\n",
       "\t<li>'#Scandal'</li>\n",
       "\t<li>'#hurtbae'</li>\n",
       "\t<li>'Prod'</li>\n",
       "\t<li>'#WeChoose'</li>\n",
       "\t<li>'#SJUBase'</li>\n",
       "\t<li>'Spring'</li>\n",
       "\t<li>'Bill Maher'</li>\n",
       "\t<li>'Jamal Murray'</li>\n",
       "\t<li>'Kyrie Irving'</li>\n",
       "</ol>\n"
      ],
      "text/latex": [
       "\\begin{enumerate*}\n",
       "\\item '\\#married2med'\n",
       "\\item '\\#Scandal'\n",
       "\\item '\\#hurtbae'\n",
       "\\item 'Prod'\n",
       "\\item '\\#WeChoose'\n",
       "\\item '\\#SJUBase'\n",
       "\\item 'Spring'\n",
       "\\item 'Bill Maher'\n",
       "\\item 'Jamal Murray'\n",
       "\\item 'Kyrie Irving'\n",
       "\\end{enumerate*}\n"
      ],
      "text/markdown": [
       "1. '#married2med'\n",
       "2. '#Scandal'\n",
       "3. '#hurtbae'\n",
       "4. 'Prod'\n",
       "5. '#WeChoose'\n",
       "6. '#SJUBase'\n",
       "7. 'Spring'\n",
       "8. 'Bill Maher'\n",
       "9. 'Jamal Murray'\n",
       "10. 'Kyrie Irving'\n",
       "\n",
       "\n"
      ],
      "text/plain": [
       " [1] \"#married2med\" \"#Scandal\"     \"#hurtbae\"     \"Prod\"         \"#WeChoose\"   \n",
       " [6] \"#SJUBase\"     \"Spring\"       \"Bill Maher\"   \"Jamal Murray\" \"Kyrie Irving\""
      ]
     },
     "metadata": {},
     "output_type": "display_data"
    }
   ],
   "source": [
    "head(trendingTopics,10)$name"
   ]
  },
  {
   "cell_type": "code",
   "execution_count": null,
   "metadata": {
    "collapsed": true
   },
   "outputs": [],
   "source": []
  }
 ],
 "metadata": {
  "kernelspec": {
   "display_name": "R",
   "language": "R",
   "name": "ir"
  },
  "language_info": {
   "codemirror_mode": "r",
   "file_extension": ".r",
   "mimetype": "text/x-r-source",
   "name": "R",
   "pygments_lexer": "r",
   "version": "3.3.2"
  }
 },
 "nbformat": 4,
 "nbformat_minor": 2
}
