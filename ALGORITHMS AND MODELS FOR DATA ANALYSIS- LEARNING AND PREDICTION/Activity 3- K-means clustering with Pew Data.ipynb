{
 "cells": [
  {
   "cell_type": "markdown",
   "metadata": {},
   "source": [
    "                                                                                                         Saurabh Bajoria\n",
    "                                                                                                         UBid: sbajoria\n",
    "                                                                                                         Person no:50208005\n",
    "\n",
    "**CSE 4/587 Data Intensive Computing**\n",
    "====================\n",
    "***LAB3: ALGORITHMS AND MODELS FOR DATA ANALYSIS, LEARNING AND PREDICTION***\n",
    "---------------------------------------\n",
    "                                                                                                       \n",
    "\n",
    "*Activity 3: K-means clustering with Pew Data*\n",
    "--------------------------------------\n",
    "\n",
    "\n",
    " \n",
    "\n",
    "- Reading the data from the CSV"
   ]
  },
  {
   "cell_type": "code",
   "execution_count": null,
   "metadata": {
    "collapsed": true
   },
   "outputs": [],
   "source": [
    "data <- read.csv(\"June 10-July 12, 2015 - Gaming, Jobs and Broadband - CSV.csv\", header = TRUE, sep = \",\", quote = \"\\\"\",\n",
    "         dec = \".\",fill = TRUE)"
   ]
  },
  {
   "cell_type": "markdown",
   "metadata": {},
   "source": [
    "- Selecting 5 columns *age,sex,eminuse,usr,game1* on which kmeans is to be performed"
   ]
  },
  {
   "cell_type": "code",
   "execution_count": null,
   "metadata": {
    "collapsed": true
   },
   "outputs": [],
   "source": [
    "data<- subset(data, select=c(\"sex\", \"age\",\"eminuse\",\"usr\",\"game1\"))"
   ]
  },
  {
   "cell_type": "markdown",
   "metadata": {},
   "source": [
    "- Changing the String(character) values of column USR to numbers using sapply and as.numeric"
   ]
  },
  {
   "cell_type": "code",
   "execution_count": null,
   "metadata": {
    "collapsed": false
   },
   "outputs": [],
   "source": [
    "data<- as.data.frame(sapply(data,as.numeric))"
   ]
  },
  {
   "cell_type": "markdown",
   "metadata": {},
   "source": [
    "- Create a function *normalization* to normalize a value of x\n",
    " - This function is applied to individual columns of the data to normalize every column to a range 0 to 1"
   ]
  },
  {
   "cell_type": "code",
   "execution_count": null,
   "metadata": {
    "collapsed": false
   },
   "outputs": [],
   "source": [
    "normalization <- function(x) \n",
    "{(x - min(x, na.rm=TRUE))/(max(x,na.rm=TRUE) -min(x, na.rm=TRUE))}\n",
    "\n",
    "data <- as.data.frame(lapply(data[,1:5], normalization))\n",
    "lapply(data, range)"
   ]
  },
  {
   "cell_type": "markdown",
   "metadata": {},
   "source": [
    "**Applying Kmeans on the data for 3 clusters(k=3)**"
   ]
  },
  {
   "cell_type": "code",
   "execution_count": null,
   "metadata": {
    "collapsed": false
   },
   "outputs": [],
   "source": [
    "km1 = kmeans(data, 3,nstart=5)"
   ]
  },
  {
   "cell_type": "markdown",
   "metadata": {},
   "source": [
    "- Displaying the centers and summary for the Kmeans"
   ]
  },
  {
   "cell_type": "code",
   "execution_count": null,
   "metadata": {
    "collapsed": false,
    "scrolled": false
   },
   "outputs": [],
   "source": [
    "km1\n",
    "km1$centers"
   ]
  },
  {
   "cell_type": "markdown",
   "metadata": {},
   "source": [
    "## Interpretration for k=3\n",
    "\n",
    "###### Variable --> (Original Values)--> (Numerical Values) --> (Normalized Values)\n",
    "- Sex --> (1,2) --> (0,1)\n",
    "- age --> (18..99) --> (0..1)\n",
    "- eminuse --> (1,2,9) --> (0, 0.125, 1)\n",
    "- usr --> (R,S,U)-->(1,2,3) --> (0, 0.5, 1)\n",
    "- game1 --> (1,2,8,9) --> (0, 0.125, 0.875, 1)\n",
    "\n",
    "##### Observation (Order of clusters in the above table may vary with each run)\n",
    "###### Cluster1 (Size: 1012)\n",
    "- For the first cluster, centers for all the variables are as follows:\n",
    " - sex=1, age~0.44, eminuse~0.021, usr~0.563, game1~0.069\n",
    "1. Majority of the population in this cluster are women\n",
    "2. People in this cluster are mid-aged\n",
    "3. Most people in this cluster use the internet or email atleast occasionally (Eminuse:Yes=0)\n",
    "4. Most people in this group are from Suburbs (S=0.5)\n",
    "5. Most people in this group dont play games (Yes=0)\n",
    "\n",
    "###### Cluster2 (Siz: 645)\n",
    "- For the second cluster, centers for all the variables are as follows:\n",
    " - sex=0, age~0.41, eminuse~0.022, usr~0.350, game1~0.070\n",
    "1. Majority of the population in this cluster are Men\n",
    "2. People in this cluster are mid-aged but average age of people in this cluster is less than average age of Cluster 1\n",
    "3. Most people in this cluster use the internet or email atleast occasionally (Eminuse:Yes=0)\n",
    "4. There is a mix of people from Suburbs and Rural areas in this cluster\n",
    "5. Player in this group are equally likely to play or dont play games (Yes=0)\n",
    "\n",
    "###### Cluster3 (Size: 344)\n",
    "- For the third cluster, centers for all the variables are as follows:\n",
    " - sex=0, age~0.36, eminuse~0.018, usr~1.00, game1~0.066\n",
    "1. Majority of the population in this cluster are Men\n",
    "2. People in this cluster are mid-aged but average age of people in this cluster is less than average age of Cluster 1 and Cluster 2\n",
    "3. Most people in this cluster use the internet or email atleast occasionally (Eminuse:Yes=0)\n",
    "4. Most people in this cluster are from Urban areas\n",
    "5. Most people in this group dont play games (Yes=0)"
   ]
  },
  {
   "cell_type": "markdown",
   "metadata": {},
   "source": [
    "**Applying Kmeans on the data for 5 clusters(k=5)**"
   ]
  },
  {
   "cell_type": "code",
   "execution_count": null,
   "metadata": {
    "collapsed": true
   },
   "outputs": [],
   "source": [
    "km2 = kmeans(data, 5,nstart=5)"
   ]
  },
  {
   "cell_type": "markdown",
   "metadata": {},
   "source": [
    "- Displaying the summary for the Kmeans"
   ]
  },
  {
   "cell_type": "code",
   "execution_count": null,
   "metadata": {
    "collapsed": false,
    "scrolled": false
   },
   "outputs": [],
   "source": [
    "km2\n",
    "km2$centers"
   ]
  },
  {
   "cell_type": "markdown",
   "metadata": {},
   "source": [
    "## Interpretration for k=5\n",
    "\n",
    "###### Variable --> (Original Values)--> (Numerical Values) --> (Normalized Values)\n",
    "- Sex --> (1,2) --> (0,1)\n",
    "- age --> (18..99) --> (0..1)\n",
    "- eminuse --> (1,2,9) --> (0, 0.125, 1)\n",
    "- usr --> (R,S,U)-->(1,2,3) --> (0, 0.5, 1)\n",
    "- game1 --> (1,2,8,9) --> (0, 0.125, 0.875, 1)\n",
    "\n",
    "##### Observation (Order of cluster in the above table may vary with each run)\n",
    "###### Cluster1 (Size: 519)\n",
    "- For the first cluster, centers for all the variables are as follows:\n",
    " - sex=1, age~0.45, eminuse~0.018, usr~0.500, game1~0.071\n",
    "1. Majority of the population in this cluster are women\n",
    "2. People in this cluster are mid-aged\n",
    "3. Most people in this cluster use the internet or email atleast occasionally (Eminuse:Yes=0)\n",
    "4. Most people in this group are from Suburbs (S=0.5)\n",
    "5. Most people in this group dont play games (No=0.125)\n",
    "\n",
    "###### Cluster2 (Siz: 344)\n",
    "- For the second cluster, centers for all the variables are as follows:\n",
    " - sex=0, age~0.36, eminuse~0.018, usr~1.00, game1~0.066\n",
    "1. Majority of the population in this cluster are Men\n",
    "2. People in this cluster are mid-aged but average age of people in this cluster is less than average age of Cluster 1\n",
    "3. Most people in this cluster use the internet or email atleast occasionally (Eminuse:Yes=0)\n",
    "4. Most people in this group are from Urban areas (U=1)\n",
    "5. People in this group are equally likely to play or dont play games (Yes=0, No=0.125)\n",
    "\n",
    "###### Cluster3 (Size: 182)\n",
    "- For the third cluster, centers for all the variables are as follows:\n",
    " - sex=1, age~0.47, eminuse~0.034, usr~0.00, game1~0.076\n",
    "1. Majority of the population in this cluster are Women\n",
    "2. People in this cluster are mid-aged but average age of people in this cluster is more than average age of Cluster 1 and Cluster 2\n",
    "3. Most people in this cluster use the internet or email atleast occasionally (Eminuse:Yes=0), but less than people in Cluster 1 and 2\n",
    "4. Most people in this cluster are from rural areas (R=0)\n",
    "5. Most people in this group dont play games (No=0.125)\n",
    "\n",
    "###### Cluster4 (Size: 645)\n",
    "- For the third cluster, centers for all the variables are as follows:\n",
    " - sex=0, age~0.41, eminuse~0.022, usr~0.35, game1~0.070\n",
    "1. Majority of the population in this cluster are Women\n",
    "2. People in this cluster are mid-aged but average age of people in this cluster is more than average age of Cluster 2\n",
    "3. Most people in this cluster use the internet or email atleast occasionally (Eminuse:Yes=0)\n",
    "4. There is a mix of people from Rural and Suburbs (R=0, S=0.5)\n",
    "5. Most people in this group dont play games (No=0.125)\n",
    "\n",
    "###### Cluster5 (Size: 311)\n",
    "- For the third cluster, centers for all the variables are as follows:\n",
    " - sex=0, age~0.40, eminuse~0.018, usr~1.00, game1~0.063\n",
    "1. Majority of the population in this cluster are Men\n",
    "2. People in this cluster are mid-aged but average age of people in this cluster is more than average age of Cluster 2\n",
    "3. Most people in this cluster use the internet or email atleast occasionally (Eminuse:Yes=0)\n",
    "4. Most people in this cluster are from Urban areas (U=1)\n",
    "5. People in this group are equally likely to play or dont play games (Yes=0, No=0.125)"
   ]
  },
  {
   "cell_type": "markdown",
   "metadata": {},
   "source": [
    "## Summary"
   ]
  },
  {
   "cell_type": "markdown",
   "metadata": {
    "collapsed": true
   },
   "source": [
    "- For k=3 the 3 clusters have sizes 645, 344, 1012 respectively\n",
    "- For k=4 the 5 clusters have sizes 311, 645, 182, 519, 344 respectively\n",
    "\n",
    "- The evaluation metric between_ss/total_ss is high for higher value of k(i.e. 5)\n",
    "- k=3, between_ss/total_ss= 67.9 %\n",
    "- k=5, between_ss/total_ss= 81.5 %\n",
    "\n",
    "- between_ss/total_ss is more for k=5, which goes to prove that for higher value of k better cluster is obtained"
   ]
  },
  {
   "cell_type": "code",
   "execution_count": null,
   "metadata": {
    "collapsed": true
   },
   "outputs": [],
   "source": []
  }
 ],
 "metadata": {
  "kernelspec": {
   "display_name": "R",
   "language": "R",
   "name": "ir"
  },
  "language_info": {
   "codemirror_mode": "r",
   "file_extension": ".r",
   "mimetype": "text/x-r-source",
   "name": "R",
   "pygments_lexer": "r",
   "version": "3.3.2"
  }
 },
 "nbformat": 4,
 "nbformat_minor": 2
}
