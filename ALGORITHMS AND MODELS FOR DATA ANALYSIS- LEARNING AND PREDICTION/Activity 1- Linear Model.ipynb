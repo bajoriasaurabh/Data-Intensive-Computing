{
 "cells": [
  {
   "cell_type": "markdown",
   "metadata": {},
   "source": [
    "                                                                                                         Saurabh Bajoria\n",
    "                                                                                                         UBid: sbajoria\n",
    "                                                                                                         Person no:50208005\n",
    "\n",
    "**CSE 4/587 Data Intensive Computing**\n",
    "====================\n",
    "***LAB3: ALGORITHMS AND MODELS FOR DATA ANALYSIS, LEARNING AND PREDICTION***\n",
    "---------------------------------------\n",
    "                                                                                                       \n",
    "\n",
    "*Activity 1: Linear Model*\n",
    "--------------------------------------\n",
    "\n",
    "\n",
    "\n",
    " \n",
    "\n",
    "- importing required data from csv"
   ]
  },
  {
   "cell_type": "code",
   "execution_count": null,
   "metadata": {
    "collapsed": false
   },
   "outputs": [],
   "source": [
    "data <- read.csv(\"NHLTop100.csv\", header = TRUE, sep = \",\", quote = \"\\\"\",\n",
    "         dec = \".\", fill = TRUE,stringsAsFactors=FALSE)"
   ]
  },
  {
   "cell_type": "markdown",
   "metadata": {},
   "source": [
    "- creating a column for changing the colour across the graph"
   ]
  },
  {
   "cell_type": "code",
   "execution_count": null,
   "metadata": {
    "collapsed": false
   },
   "outputs": [],
   "source": [
    "rbPal <- colorRampPalette(c('sienna2','blue'))\n",
    "data$Col <- rbPal(10)[cut(data$GP,breaks = 10)]"
   ]
  },
  {
   "cell_type": "markdown",
   "metadata": {},
   "source": [
    "- creating a dataframe *table* to store the output (ModelName, Rsquared Value and PValue)"
   ]
  },
  {
   "cell_type": "code",
   "execution_count": null,
   "metadata": {
    "collapsed": false
   },
   "outputs": [],
   "source": [
    "table <- data.frame(ModelName=character(),Rsquared=numeric(),PValue=numeric(),stringsAsFactors=FALSE)"
   ]
  },
  {
   "cell_type": "markdown",
   "metadata": {},
   "source": [
    "# a. Initial Fitting\n",
    " - Plotting a graph with Assists on the Y-axis and Goals on the X-axis\n",
    " - Limiting the X and Y axis from 0-1000 and 0-2000 respectively\n",
    " - Computing the linear model initial fit using lm(I(y)~I(x),data) function\n",
    " - Plotting the line for the linear model using abline"
   ]
  },
  {
   "cell_type": "code",
   "execution_count": null,
   "metadata": {
    "collapsed": false
   },
   "outputs": [],
   "source": [
    "plot(data$G, data$A, pch = 16, cex = data$G/500, col = data$Col, main = \"Goals Vs Assists\",xlab = \"Goals\",\n",
    "     ylab = \"Assists\",xlim=c(0,1000),ylim=c(0,2000)\n",
    "     ,axes=FALSE)\n",
    "axis(side=1, at=seq(0, 1000, by=100))\n",
    "axis(side=2, at=seq(0, 2000, by=200))\n",
    "box()\n",
    "initial <- lm(I(A)~I(G), data)\n",
    "abline(initial,col=\"red\")"
   ]
  },
  {
   "cell_type": "markdown",
   "metadata": {},
   "source": [
    "- Summarizing the initial fit model using summary() function\n",
    "- Also noting down the Rsquared and PValue for the linear model in the dataframe *table*"
   ]
  },
  {
   "cell_type": "code",
   "execution_count": null,
   "metadata": {
    "collapsed": false
   },
   "outputs": [],
   "source": [
    "summary(initial)\n",
    "table[1,] <- list(ModelName=\"Initial fitting\",Rsquared=summary(initial)$r.squared,PValue=summary(initial)$coefficients[2,4])"
   ]
  },
  {
   "cell_type": "markdown",
   "metadata": {},
   "source": [
    "# b. Wayne Gretzky model\n",
    " - Retreiving the x and y coordinates for the Player Wayne Gretzky\n",
    " - Plotting a graph with Assists on the Y-axis and Goals on the X-axis\n",
    " - Limiting the X and Y axis from 0-1000 and 0-2000 respectively\n",
    " - Computing the linear model using lm(I(y-y1)~I(x-x1),data) function, this is equivalent to shifting the origin to point (x1,y1)\n",
    " - Computing the linear model using lm function with the intercept obtained from the above linear model\n",
    " - Plotting the line using the intercept and slope of the above linear model"
   ]
  },
  {
   "cell_type": "code",
   "execution_count": null,
   "metadata": {
    "collapsed": false,
    "scrolled": false
   },
   "outputs": [],
   "source": [
    "p = data[data$Player == \"Wayne Gretzky\" , ]$G\n",
    "q = data[data$Player == \"Wayne Gretzky\" , ]$A\n",
    "plot(data$G, data$A, pch = 16, cex = data$G/500, col = data$Col, main = \"Goals Vs Assists\",xlab = \"Goals\",\n",
    "     ylab = \"Assists\",xlim=c(0,1000),ylim=c(0,2000)\n",
    "     ,axes=FALSE)\n",
    "text(894,2030, \"Wayne Gretzky\",    cex = 1)\n",
    "axis(side=1, at=seq(0, 1000, by=100))\n",
    "axis(side=2, at=seq(0, 2000, by=200))\n",
    "box()\n",
    "temp <- lm(I(A-q)~I(G-p), data)\n",
    "wayne<- lm(I(A-coef(temp)[1])~I(G), data)\n",
    "abline(coef(wayne)[1],coef(wayne)[2], col='darkgreen')"
   ]
  },
  {
   "cell_type": "markdown",
   "metadata": {},
   "source": [
    "- Summarizing the initial fit model using summary() function\n",
    "- Also noting down the Rsquared and PValue for the linear model in the dataframe *table*"
   ]
  },
  {
   "cell_type": "code",
   "execution_count": null,
   "metadata": {
    "collapsed": false
   },
   "outputs": [],
   "source": [
    "summary(wayne)\n",
    "table[2,] <- list(ModelName=\"Wayne Gretzky Model\",Rsquared=summary(wayne)$r.squared,PValue=summary(wayne)$coefficients[2,4])"
   ]
  },
  {
   "cell_type": "markdown",
   "metadata": {},
   "source": [
    "- Adding the data for Player Patrick Kane to the original data"
   ]
  },
  {
   "cell_type": "code",
   "execution_count": null,
   "metadata": {
    "collapsed": false
   },
   "outputs": [],
   "source": [
    "KaneNewRow<- c(88,\"Patrick Kane\",\"CHI\",\"L\",\"2007-2008\",\"2016-2017\",735,285,462,747,81,284,336,1,49,\"NA\",3,2290,\n",
    "              rbPal(10)[as.numeric(cut(as.numeric(data$GP),breaks = 10))])\n",
    "data<- rbind(data,KaneNewRow)\n",
    "data$G <- as.numeric(data$G)\n",
    "data$A <- as.numeric(data$A)"
   ]
  },
  {
   "cell_type": "markdown",
   "metadata": {},
   "source": [
    "# c. Patrick Kane model\n",
    " - Retreiving the x and y coordinates for the Player Patrick Kane\n",
    " - Plotting a graph with Assists on the Y-axis and Goals on the X-axis\n",
    " - Limiting the X and Y axis from 0-1000 and 0-2000 respectively\n",
    " - Computing the linear model using lm(I(y-y1)~I(x-x1),data) function, this is equivalent to shifting the origin to point (x1,y1)\n",
    " - Computing the linear model using lm function with the intercept obtained from the above linear model\n",
    " - Plotting the line using the intercept and slope of the above linear model"
   ]
  },
  {
   "cell_type": "code",
   "execution_count": null,
   "metadata": {
    "collapsed": false
   },
   "outputs": [],
   "source": [
    "p = data[data$Player == \"Patrick Kane\" , ]$G\n",
    "q = data[data$Player == \"Patrick Kane\" , ]$A\n",
    "plot(data$G,data$A, pch = 16,cex = data$G/500, col = data$Col, main = \"Goals Vs Assists\",xlab = \"Goals\",\n",
    "     ylab = \"Assists\",xlim=c(0,1000),ylim=c(0,2000)\n",
    "     ,axes=FALSE)\n",
    "text(290,520, \"Patrick Kane\",    cex = 1)\n",
    "axis(side=1, at=seq(0, 1000, by=100))\n",
    "axis(side=2, at=seq(0, 2000, by=200))\n",
    "box()\n",
    "temp <- lm(I(A-q)~I(G-p), data)\n",
    "patrick<- lm(I(A-coef(temp)[1])~I(G), data)\n",
    "abline(coef(patrick)[1],coef(patrick)[2], col='blue')"
   ]
  },
  {
   "cell_type": "markdown",
   "metadata": {},
   "source": [
    "- Summarizing the initial fit model using summary() function\n",
    "- Also noting down the Rsquared and PValue for the linear model in the dataframe *table*"
   ]
  },
  {
   "cell_type": "code",
   "execution_count": null,
   "metadata": {
    "collapsed": false
   },
   "outputs": [],
   "source": [
    "summary(patrick)\n",
    "table[3,] <- list(ModelName=\"Patrick Kane Model\",Rsquared=summary(patrick)$r.squared,PValue=summary(patrick)$coefficients[2,4])"
   ]
  },
  {
   "cell_type": "markdown",
   "metadata": {},
   "source": [
    "# d. All Models through origin\n",
    " - Retreiving the x and y coordinates for the Player Wayne Gretzky\n",
    " - Retreiving the x and y coordinates for the Player Patrick Kane\n",
    " - Plotting a graph with Assists on the Y-axis and Goals on the X-axis\n",
    " - Limiting the X and Y axis from 0-1000 and 0-2000 respectively\n",
    " - Forcing the lm line to pass through Origin and coordinates of Wayne Gretzky (Colour --> darkgreen)\n",
    " - Forcing the lm line to pass through Origin and coordinates of Patrick Kane (Colour --> blue)\n",
    " - Forcing the initial fit lm line to pass through Origin (Colour --> red)"
   ]
  },
  {
   "cell_type": "code",
   "execution_count": null,
   "metadata": {
    "collapsed": false,
    "scrolled": false
   },
   "outputs": [],
   "source": [
    "p1 = data[data$Player == \"Wayne Gretzky\" , ]$G\n",
    "q1 = data[data$Player == \"Wayne Gretzky\" , ]$A\n",
    "p2 = data[data$Player == \"Patrick Kane\" , ]$G\n",
    "q2 = data[data$Player == \"Patrick Kane\" , ]$A\n",
    "plot(data$G, data$A, pch = 16, cex = data$G/500, col = data$Col, main = \"Goals Vs Assists\",xlab = \"Goals\",\n",
    "     ylab = \"Assists\",xlim=c(0,1000),ylim=c(0,2000)\n",
    "     ,axes=FALSE)\n",
    "text(290,520, \"Patrick Kane\",    cex = 1)\n",
    "text(894,2030, \"Wayne Gretzky\",    cex = 1)\n",
    "axis(side=1, at=seq(0, 1000, by=100))\n",
    "axis(side=2, at=seq(0, 2000, by=200))\n",
    "box()\n",
    "origin <- lm(I(A-q1)~I(G-p1)+0, data)\n",
    "cat(\"****Wayne Gretzky-Origin Model****\")\n",
    "summary(origin)\n",
    "table[4,] <- list(ModelName=\"Wayne Gretzky-Origin Model\",Rsquared=summary(origin)$r.squared,PValue=summary(origin)$coefficients[1,4])\n",
    "origin <- lm(I(q1)~I(p1)+0,data)\n",
    "abline(origin,col=\"darkgreen\")\n",
    "origin <- lm(I(A-q2)~I(G-p2)+0, data)\n",
    "cat(\"****Patrick Kane-Origin Model****\")\n",
    "summary(origin)\n",
    "table[5,] <- list(ModelName=\"Patrick Kane-Origin Model\",Rsquared=summary(origin)$r.squared,PValue=summary(origin)$coefficients[1,4])\n",
    "origin <- lm(I(q2)~I(p2)+0,data)\n",
    "abline(origin,col=\"blue\")\n",
    "origin <- lm(I(A)~I(G)+0, data)\n",
    "cat(\"****Initial Fitting-Origin Model****\")\n",
    "summary(origin)\n",
    "table[6,] <- list(ModelName=\"Initial Fitting-Origin Model\",Rsquared=summary(origin)$r.squared,PValue=summary(origin)$coefficients[1,4])\n",
    "abline(origin,col=\"red\")"
   ]
  },
  {
   "cell_type": "markdown",
   "metadata": {},
   "source": [
    "# Table of Model Names, Rsquared and PValue"
   ]
  },
  {
   "cell_type": "code",
   "execution_count": null,
   "metadata": {
    "collapsed": false
   },
   "outputs": [],
   "source": [
    "table"
   ]
  },
  {
   "cell_type": "markdown",
   "metadata": {
    "collapsed": true
   },
   "source": [
    "# Interpretation"
   ]
  },
  {
   "cell_type": "markdown",
   "metadata": {},
   "source": [
    "### R squared Value:\n",
    "\n",
    "- R-squared is a statistical measure of how close the data are to the fitted regression line\n",
    " - 0 indicates that the model explains none of the variability of the response data around its mean\n",
    " - 1 indicates that the model explains all the variability of the response data around its mean\n",
    "- Observing the above table, Rsquared value is maximum for Wayne Gretzky-Origin Model and the least for Initial Fit and Wayne Gretzky Model\n",
    "- This can be interpreted as the data falls closest to the Wayne Gretzky-Origin Model \n",
    "\n",
    "- (Reference: http://blog.minitab.com/blog/adventures-in-statistics-2/regression-analysis-how-do-i-interpret-r-squared-and-assess-the-goodness-of-fit)\n",
    "\n",
    "### PValue:\n",
    "\n",
    "- A low p-value (< 0.05) indicates that we can reject the null hypothesis. Thus, a low P value is desired as it is more likely to be a meaningful addition to our model because changes in the response variable is directly proportional to changes in the predictor's value.\n",
    "- For our final output we can see that for Wayne Gretzky when we force our model through origin our p value becomes very low unlike our intial regression where values are comparatively higher\n",
    "\n",
    "- (Reference: http://blog.minitab.com/blog/adventures-in-statistics-2/how-to-correctly-interpret-p-values)\n",
    "\n",
    "###### So taking into consideration both rsquared and Pvalues, Wayne Gretzky-Origin Model is the best fitted linear model"
   ]
  },
  {
   "cell_type": "code",
   "execution_count": null,
   "metadata": {
    "collapsed": true
   },
   "outputs": [],
   "source": []
  }
 ],
 "metadata": {
  "kernelspec": {
   "display_name": "R",
   "language": "R",
   "name": "ir"
  },
  "language_info": {
   "codemirror_mode": "r",
   "file_extension": ".r",
   "mimetype": "text/x-r-source",
   "name": "R",
   "pygments_lexer": "r",
   "version": "3.3.2"
  }
 },
 "nbformat": 4,
 "nbformat_minor": 2
}
